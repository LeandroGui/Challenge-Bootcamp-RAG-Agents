{
  "cells": [
    {
      "cell_type": "markdown",
      "source": [
        "### This notebook was worked on in Google Colab. ###\n",
        "\n",
        "Colab: https://colab.research.google.com/drive/1AdrQJ_AOlDVSw_6ve4Fr2DSkXxSYc8j-?usp=sharing"
      ],
      "metadata": {
        "id": "IGTbRS9pxAtu"
      }
    },
    {
      "cell_type": "markdown",
      "metadata": {
        "id": "jsBT5y6eB5tp"
      },
      "source": [
        "# Question 1: RAG Pipeline using BeyondLLM"
      ]
    },
    {
      "cell_type": "markdown",
      "metadata": {
        "id": "5g41N7CAHItU"
      },
      "source": [
        "## Setup"
      ]
    },
    {
      "cell_type": "code",
      "execution_count": null,
      "metadata": {
        "colab": {
          "base_uri": "https://localhost:8080/",
          "height": 1000
        },
        "id": "s3bcpJtLB3Uz",
        "outputId": "f6c67bb2-a762-4a8f-8da8-399476c85fa7"
      },
      "outputs": [
        {
          "output_type": "stream",
          "name": "stdout",
          "text": [
            "Collecting beyondllm\n",
            "  Downloading beyondllm-0.2.3-py3-none-any.whl.metadata (7.6 kB)\n",
            "Collecting llama-index==0.10.27 (from beyondllm)\n",
            "  Downloading llama_index-0.10.27-py3-none-any.whl.metadata (11 kB)\n",
            "Collecting llama-index-embeddings-gemini==0.1.6 (from beyondllm)\n",
            "  Downloading llama_index_embeddings_gemini-0.1.6-py3-none-any.whl.metadata (660 bytes)\n",
            "Requirement already satisfied: nltk==3.8.1 in /usr/local/lib/python3.10/dist-packages (from beyondllm) (3.8.1)\n",
            "Requirement already satisfied: numpy==1.26.4 in /usr/local/lib/python3.10/dist-packages (from beyondllm) (1.26.4)\n",
            "Collecting openai==1.20.0 (from beyondllm)\n",
            "  Downloading openai-1.20.0-py3-none-any.whl.metadata (21 kB)\n",
            "Collecting pandas==2.0.3 (from beyondllm)\n",
            "  Downloading pandas-2.0.3-cp310-cp310-manylinux_2_17_x86_64.manylinux2014_x86_64.whl.metadata (18 kB)\n",
            "Collecting pydantic<2,>=1.10.5 (from beyondllm)\n",
            "  Downloading pydantic-1.10.18-cp310-cp310-manylinux_2_17_x86_64.manylinux2014_x86_64.whl.metadata (152 kB)\n",
            "\u001b[2K     \u001b[90m━━━━━━━━━━━━━━━━━━━━━━━━━━━━━━━━━━━━━━━━\u001b[0m \u001b[32m152.2/152.2 kB\u001b[0m \u001b[31m2.6 MB/s\u001b[0m eta \u001b[36m0:00:00\u001b[0m\n",
            "\u001b[?25hCollecting pypdf==4.2.0 (from beyondllm)\n",
            "  Downloading pypdf-4.2.0-py3-none-any.whl.metadata (7.4 kB)\n",
            "Collecting pysbd==0.3.4 (from beyondllm)\n",
            "  Downloading pysbd-0.3.4-py3-none-any.whl.metadata (6.1 kB)\n",
            "Collecting pyyaml==6.0.1 (from beyondllm)\n",
            "  Downloading PyYAML-6.0.1-cp310-cp310-manylinux_2_17_x86_64.manylinux2014_x86_64.whl.metadata (2.1 kB)\n",
            "Collecting regex==2024.4.16 (from beyondllm)\n",
            "  Downloading regex-2024.4.16-cp310-cp310-manylinux_2_17_x86_64.manylinux2014_x86_64.whl.metadata (40 kB)\n",
            "\u001b[2K     \u001b[90m━━━━━━━━━━━━━━━━━━━━━━━━━━━━━━━━━━━━━━━━\u001b[0m \u001b[32m40.9/40.9 kB\u001b[0m \u001b[31m2.2 MB/s\u001b[0m eta \u001b[36m0:00:00\u001b[0m\n",
            "\u001b[?25hCollecting sqlalchemy==2.0.29 (from beyondllm)\n",
            "  Downloading SQLAlchemy-2.0.29-cp310-cp310-manylinux_2_17_x86_64.manylinux2014_x86_64.whl.metadata (9.6 kB)\n",
            "Collecting tiktoken==0.6.0 (from beyondllm)\n",
            "  Downloading tiktoken-0.6.0-cp310-cp310-manylinux_2_17_x86_64.manylinux2014_x86_64.whl.metadata (6.6 kB)\n",
            "Collecting llama-index-agent-openai<0.3.0,>=0.1.4 (from llama-index==0.10.27->beyondllm)\n",
            "  Downloading llama_index_agent_openai-0.2.9-py3-none-any.whl.metadata (729 bytes)\n",
            "Collecting llama-index-cli<0.2.0,>=0.1.2 (from llama-index==0.10.27->beyondllm)\n",
            "  Downloading llama_index_cli-0.1.13-py3-none-any.whl.metadata (1.5 kB)\n",
            "Collecting llama-index-core<0.11.0,>=0.10.27 (from llama-index==0.10.27->beyondllm)\n",
            "  Downloading llama_index_core-0.10.68.post1-py3-none-any.whl.metadata (2.5 kB)\n",
            "Collecting llama-index-embeddings-openai<0.2.0,>=0.1.5 (from llama-index==0.10.27->beyondllm)\n",
            "  Downloading llama_index_embeddings_openai-0.1.11-py3-none-any.whl.metadata (655 bytes)\n",
            "Collecting llama-index-indices-managed-llama-cloud<0.2.0,>=0.1.2 (from llama-index==0.10.27->beyondllm)\n",
            "  Downloading llama_index_indices_managed_llama_cloud-0.1.6-py3-none-any.whl.metadata (3.8 kB)\n",
            "Collecting llama-index-legacy<0.10.0,>=0.9.48 (from llama-index==0.10.27->beyondllm)\n",
            "  Downloading llama_index_legacy-0.9.48.post3-py3-none-any.whl.metadata (8.5 kB)\n",
            "Collecting llama-index-llms-openai<0.2.0,>=0.1.13 (from llama-index==0.10.27->beyondllm)\n",
            "  Downloading llama_index_llms_openai-0.1.31-py3-none-any.whl.metadata (650 bytes)\n",
            "Collecting llama-index-multi-modal-llms-openai<0.2.0,>=0.1.3 (from llama-index==0.10.27->beyondllm)\n",
            "  Downloading llama_index_multi_modal_llms_openai-0.1.9-py3-none-any.whl.metadata (728 bytes)\n",
            "Collecting llama-index-program-openai<0.2.0,>=0.1.3 (from llama-index==0.10.27->beyondllm)\n",
            "  Downloading llama_index_program_openai-0.1.7-py3-none-any.whl.metadata (760 bytes)\n",
            "Collecting llama-index-question-gen-openai<0.2.0,>=0.1.2 (from llama-index==0.10.27->beyondllm)\n",
            "  Downloading llama_index_question_gen_openai-0.1.3-py3-none-any.whl.metadata (785 bytes)\n",
            "Collecting llama-index-readers-file<0.2.0,>=0.1.4 (from llama-index==0.10.27->beyondllm)\n",
            "  Downloading llama_index_readers_file-0.1.33-py3-none-any.whl.metadata (5.4 kB)\n",
            "Collecting llama-index-readers-llama-parse<0.2.0,>=0.1.2 (from llama-index==0.10.27->beyondllm)\n",
            "  Downloading llama_index_readers_llama_parse-0.1.6-py3-none-any.whl.metadata (3.6 kB)\n",
            "Collecting google-generativeai<0.5.0,>=0.4.1 (from llama-index-embeddings-gemini==0.1.6->beyondllm)\n",
            "  Downloading google_generativeai-0.4.1-py3-none-any.whl.metadata (6.2 kB)\n",
            "Requirement already satisfied: click in /usr/local/lib/python3.10/dist-packages (from nltk==3.8.1->beyondllm) (8.1.7)\n",
            "Requirement already satisfied: joblib in /usr/local/lib/python3.10/dist-packages (from nltk==3.8.1->beyondllm) (1.4.2)\n",
            "Requirement already satisfied: tqdm in /usr/local/lib/python3.10/dist-packages (from nltk==3.8.1->beyondllm) (4.66.5)\n",
            "Requirement already satisfied: anyio<5,>=3.5.0 in /usr/local/lib/python3.10/dist-packages (from openai==1.20.0->beyondllm) (3.7.1)\n",
            "Requirement already satisfied: distro<2,>=1.7.0 in /usr/lib/python3/dist-packages (from openai==1.20.0->beyondllm) (1.7.0)\n",
            "Collecting httpx<1,>=0.23.0 (from openai==1.20.0->beyondllm)\n",
            "  Downloading httpx-0.27.2-py3-none-any.whl.metadata (7.1 kB)\n",
            "Requirement already satisfied: sniffio in /usr/local/lib/python3.10/dist-packages (from openai==1.20.0->beyondllm) (1.3.1)\n",
            "Requirement already satisfied: typing-extensions<5,>=4.7 in /usr/local/lib/python3.10/dist-packages (from openai==1.20.0->beyondllm) (4.12.2)\n",
            "Requirement already satisfied: python-dateutil>=2.8.2 in /usr/local/lib/python3.10/dist-packages (from pandas==2.0.3->beyondllm) (2.8.2)\n",
            "Requirement already satisfied: pytz>=2020.1 in /usr/local/lib/python3.10/dist-packages (from pandas==2.0.3->beyondllm) (2024.1)\n",
            "Requirement already satisfied: tzdata>=2022.1 in /usr/local/lib/python3.10/dist-packages (from pandas==2.0.3->beyondllm) (2024.1)\n",
            "Requirement already satisfied: greenlet!=0.4.17 in /usr/local/lib/python3.10/dist-packages (from sqlalchemy==2.0.29->beyondllm) (3.1.0)\n",
            "Requirement already satisfied: requests>=2.26.0 in /usr/local/lib/python3.10/dist-packages (from tiktoken==0.6.0->beyondllm) (2.32.3)\n",
            "Requirement already satisfied: idna>=2.8 in /usr/local/lib/python3.10/dist-packages (from anyio<5,>=3.5.0->openai==1.20.0->beyondllm) (3.8)\n",
            "Requirement already satisfied: exceptiongroup in /usr/local/lib/python3.10/dist-packages (from anyio<5,>=3.5.0->openai==1.20.0->beyondllm) (1.2.2)\n",
            "Collecting google-ai-generativelanguage==0.4.0 (from google-generativeai<0.5.0,>=0.4.1->llama-index-embeddings-gemini==0.1.6->beyondllm)\n",
            "  Downloading google_ai_generativelanguage-0.4.0-py3-none-any.whl.metadata (5.1 kB)\n",
            "Requirement already satisfied: google-auth>=2.15.0 in /usr/local/lib/python3.10/dist-packages (from google-generativeai<0.5.0,>=0.4.1->llama-index-embeddings-gemini==0.1.6->beyondllm) (2.27.0)\n",
            "Requirement already satisfied: google-api-core in /usr/local/lib/python3.10/dist-packages (from google-generativeai<0.5.0,>=0.4.1->llama-index-embeddings-gemini==0.1.6->beyondllm) (2.19.2)\n",
            "Requirement already satisfied: protobuf in /usr/local/lib/python3.10/dist-packages (from google-generativeai<0.5.0,>=0.4.1->llama-index-embeddings-gemini==0.1.6->beyondllm) (3.20.3)\n",
            "Requirement already satisfied: proto-plus<2.0.0dev,>=1.22.3 in /usr/local/lib/python3.10/dist-packages (from google-ai-generativelanguage==0.4.0->google-generativeai<0.5.0,>=0.4.1->llama-index-embeddings-gemini==0.1.6->beyondllm) (1.24.0)\n",
            "Requirement already satisfied: certifi in /usr/local/lib/python3.10/dist-packages (from httpx<1,>=0.23.0->openai==1.20.0->beyondllm) (2024.8.30)\n",
            "Collecting httpcore==1.* (from httpx<1,>=0.23.0->openai==1.20.0->beyondllm)\n",
            "  Downloading httpcore-1.0.5-py3-none-any.whl.metadata (20 kB)\n",
            "Collecting h11<0.15,>=0.13 (from httpcore==1.*->httpx<1,>=0.23.0->openai==1.20.0->beyondllm)\n",
            "  Downloading h11-0.14.0-py3-none-any.whl.metadata (8.2 kB)\n",
            "Requirement already satisfied: aiohttp<4.0.0,>=3.8.6 in /usr/local/lib/python3.10/dist-packages (from llama-index-core<0.11.0,>=0.10.27->llama-index==0.10.27->beyondllm) (3.10.5)\n",
            "Collecting dataclasses-json (from llama-index-core<0.11.0,>=0.10.27->llama-index==0.10.27->beyondllm)\n",
            "  Downloading dataclasses_json-0.6.7-py3-none-any.whl.metadata (25 kB)\n",
            "Collecting deprecated>=1.2.9.3 (from llama-index-core<0.11.0,>=0.10.27->llama-index==0.10.27->beyondllm)\n",
            "  Downloading Deprecated-1.2.14-py2.py3-none-any.whl.metadata (5.4 kB)\n",
            "Collecting dirtyjson<2.0.0,>=1.0.8 (from llama-index-core<0.11.0,>=0.10.27->llama-index==0.10.27->beyondllm)\n",
            "  Downloading dirtyjson-1.0.8-py3-none-any.whl.metadata (11 kB)\n",
            "Requirement already satisfied: fsspec>=2023.5.0 in /usr/local/lib/python3.10/dist-packages (from llama-index-core<0.11.0,>=0.10.27->llama-index==0.10.27->beyondllm) (2024.6.1)\n",
            "Requirement already satisfied: nest-asyncio<2.0.0,>=1.5.8 in /usr/local/lib/python3.10/dist-packages (from llama-index-core<0.11.0,>=0.10.27->llama-index==0.10.27->beyondllm) (1.6.0)\n",
            "Requirement already satisfied: networkx>=3.0 in /usr/local/lib/python3.10/dist-packages (from llama-index-core<0.11.0,>=0.10.27->llama-index==0.10.27->beyondllm) (3.3)\n",
            "Requirement already satisfied: pillow>=9.0.0 in /usr/local/lib/python3.10/dist-packages (from llama-index-core<0.11.0,>=0.10.27->llama-index==0.10.27->beyondllm) (9.4.0)\n",
            "Collecting tenacity!=8.4.0,<9.0.0,>=8.2.0 (from llama-index-core<0.11.0,>=0.10.27->llama-index==0.10.27->beyondllm)\n",
            "  Downloading tenacity-8.5.0-py3-none-any.whl.metadata (1.2 kB)\n",
            "Collecting typing-inspect>=0.8.0 (from llama-index-core<0.11.0,>=0.10.27->llama-index==0.10.27->beyondllm)\n",
            "  Downloading typing_inspect-0.9.0-py3-none-any.whl.metadata (1.5 kB)\n",
            "Requirement already satisfied: wrapt in /usr/local/lib/python3.10/dist-packages (from llama-index-core<0.11.0,>=0.10.27->llama-index==0.10.27->beyondllm) (1.16.0)\n",
            "Collecting llamaindex-py-client<0.2.0,>=0.1.19 (from llama-index-indices-managed-llama-cloud<0.2.0,>=0.1.2->llama-index==0.10.27->beyondllm)\n",
            "  Downloading llamaindex_py_client-0.1.19-py3-none-any.whl.metadata (760 bytes)\n",
            "INFO: pip is looking at multiple versions of llama-index-llms-openai to determine which version is compatible with other requirements. This could take a while.\n",
            "Collecting llama-index-llms-openai<0.2.0,>=0.1.13 (from llama-index==0.10.27->beyondllm)\n",
            "  Downloading llama_index_llms_openai-0.1.30-py3-none-any.whl.metadata (650 bytes)\n",
            "  Downloading llama_index_llms_openai-0.1.29-py3-none-any.whl.metadata (650 bytes)\n",
            "  Downloading llama_index_llms_openai-0.1.28-py3-none-any.whl.metadata (650 bytes)\n",
            "  Downloading llama_index_llms_openai-0.1.27-py3-none-any.whl.metadata (610 bytes)\n",
            "Requirement already satisfied: beautifulsoup4<5.0.0,>=4.12.3 in /usr/local/lib/python3.10/dist-packages (from llama-index-readers-file<0.2.0,>=0.1.4->llama-index==0.10.27->beyondllm) (4.12.3)\n",
            "Collecting striprtf<0.0.27,>=0.0.26 (from llama-index-readers-file<0.2.0,>=0.1.4->llama-index==0.10.27->beyondllm)\n",
            "  Downloading striprtf-0.0.26-py3-none-any.whl.metadata (2.1 kB)\n",
            "Collecting llama-parse>=0.4.0 (from llama-index-readers-llama-parse<0.2.0,>=0.1.2->llama-index==0.10.27->beyondllm)\n",
            "  Downloading llama_parse-0.5.5-py3-none-any.whl.metadata (6.1 kB)\n",
            "Requirement already satisfied: six>=1.5 in /usr/local/lib/python3.10/dist-packages (from python-dateutil>=2.8.2->pandas==2.0.3->beyondllm) (1.16.0)\n",
            "Requirement already satisfied: charset-normalizer<4,>=2 in /usr/local/lib/python3.10/dist-packages (from requests>=2.26.0->tiktoken==0.6.0->beyondllm) (3.3.2)\n",
            "Requirement already satisfied: urllib3<3,>=1.21.1 in /usr/local/lib/python3.10/dist-packages (from requests>=2.26.0->tiktoken==0.6.0->beyondllm) (2.0.7)\n",
            "Requirement already satisfied: aiohappyeyeballs>=2.3.0 in /usr/local/lib/python3.10/dist-packages (from aiohttp<4.0.0,>=3.8.6->llama-index-core<0.11.0,>=0.10.27->llama-index==0.10.27->beyondllm) (2.4.0)\n",
            "Requirement already satisfied: aiosignal>=1.1.2 in /usr/local/lib/python3.10/dist-packages (from aiohttp<4.0.0,>=3.8.6->llama-index-core<0.11.0,>=0.10.27->llama-index==0.10.27->beyondllm) (1.3.1)\n",
            "Requirement already satisfied: attrs>=17.3.0 in /usr/local/lib/python3.10/dist-packages (from aiohttp<4.0.0,>=3.8.6->llama-index-core<0.11.0,>=0.10.27->llama-index==0.10.27->beyondllm) (24.2.0)\n",
            "Requirement already satisfied: frozenlist>=1.1.1 in /usr/local/lib/python3.10/dist-packages (from aiohttp<4.0.0,>=3.8.6->llama-index-core<0.11.0,>=0.10.27->llama-index==0.10.27->beyondllm) (1.4.1)\n",
            "Requirement already satisfied: multidict<7.0,>=4.5 in /usr/local/lib/python3.10/dist-packages (from aiohttp<4.0.0,>=3.8.6->llama-index-core<0.11.0,>=0.10.27->llama-index==0.10.27->beyondllm) (6.1.0)\n",
            "Requirement already satisfied: yarl<2.0,>=1.0 in /usr/local/lib/python3.10/dist-packages (from aiohttp<4.0.0,>=3.8.6->llama-index-core<0.11.0,>=0.10.27->llama-index==0.10.27->beyondllm) (1.11.1)\n",
            "Requirement already satisfied: async-timeout<5.0,>=4.0 in /usr/local/lib/python3.10/dist-packages (from aiohttp<4.0.0,>=3.8.6->llama-index-core<0.11.0,>=0.10.27->llama-index==0.10.27->beyondllm) (4.0.3)\n",
            "Requirement already satisfied: soupsieve>1.2 in /usr/local/lib/python3.10/dist-packages (from beautifulsoup4<5.0.0,>=4.12.3->llama-index-readers-file<0.2.0,>=0.1.4->llama-index==0.10.27->beyondllm) (2.6)\n",
            "Requirement already satisfied: googleapis-common-protos<2.0.dev0,>=1.56.2 in /usr/local/lib/python3.10/dist-packages (from google-api-core->google-generativeai<0.5.0,>=0.4.1->llama-index-embeddings-gemini==0.1.6->beyondllm) (1.65.0)\n",
            "Requirement already satisfied: cachetools<6.0,>=2.0.0 in /usr/local/lib/python3.10/dist-packages (from google-auth>=2.15.0->google-generativeai<0.5.0,>=0.4.1->llama-index-embeddings-gemini==0.1.6->beyondllm) (5.5.0)\n",
            "Requirement already satisfied: pyasn1-modules>=0.2.1 in /usr/local/lib/python3.10/dist-packages (from google-auth>=2.15.0->google-generativeai<0.5.0,>=0.4.1->llama-index-embeddings-gemini==0.1.6->beyondllm) (0.4.0)\n",
            "Requirement already satisfied: rsa<5,>=3.1.4 in /usr/local/lib/python3.10/dist-packages (from google-auth>=2.15.0->google-generativeai<0.5.0,>=0.4.1->llama-index-embeddings-gemini==0.1.6->beyondllm) (4.9)\n",
            "INFO: pip is looking at multiple versions of llama-parse to determine which version is compatible with other requirements. This could take a while.\n",
            "  Downloading llama_parse-0.5.4-py3-none-any.whl.metadata (6.1 kB)\n",
            "  Downloading llama_parse-0.5.3-py3-none-any.whl.metadata (4.5 kB)\n",
            "  Downloading llama_parse-0.5.2-py3-none-any.whl.metadata (4.5 kB)\n",
            "  Downloading llama_parse-0.5.1-py3-none-any.whl.metadata (4.5 kB)\n",
            "  Downloading llama_parse-0.5.0-py3-none-any.whl.metadata (4.4 kB)\n",
            "  Downloading llama_parse-0.4.9-py3-none-any.whl.metadata (4.4 kB)\n",
            "Collecting mypy-extensions>=0.3.0 (from typing-inspect>=0.8.0->llama-index-core<0.11.0,>=0.10.27->llama-index==0.10.27->beyondllm)\n",
            "  Downloading mypy_extensions-1.0.0-py3-none-any.whl.metadata (1.1 kB)\n",
            "Collecting marshmallow<4.0.0,>=3.18.0 (from dataclasses-json->llama-index-core<0.11.0,>=0.10.27->llama-index==0.10.27->beyondllm)\n",
            "  Downloading marshmallow-3.22.0-py3-none-any.whl.metadata (7.2 kB)\n",
            "Requirement already satisfied: grpcio<2.0dev,>=1.33.2 in /usr/local/lib/python3.10/dist-packages (from google-api-core[grpc]!=2.0.*,!=2.1.*,!=2.10.*,!=2.2.*,!=2.3.*,!=2.4.*,!=2.5.*,!=2.6.*,!=2.7.*,!=2.8.*,!=2.9.*,<3.0.0dev,>=1.34.0->google-ai-generativelanguage==0.4.0->google-generativeai<0.5.0,>=0.4.1->llama-index-embeddings-gemini==0.1.6->beyondllm) (1.64.1)\n",
            "Requirement already satisfied: grpcio-status<2.0.dev0,>=1.33.2 in /usr/local/lib/python3.10/dist-packages (from google-api-core[grpc]!=2.0.*,!=2.1.*,!=2.10.*,!=2.2.*,!=2.3.*,!=2.4.*,!=2.5.*,!=2.6.*,!=2.7.*,!=2.8.*,!=2.9.*,<3.0.0dev,>=1.34.0->google-ai-generativelanguage==0.4.0->google-generativeai<0.5.0,>=0.4.1->llama-index-embeddings-gemini==0.1.6->beyondllm) (1.48.2)\n",
            "Requirement already satisfied: packaging>=17.0 in /usr/local/lib/python3.10/dist-packages (from marshmallow<4.0.0,>=3.18.0->dataclasses-json->llama-index-core<0.11.0,>=0.10.27->llama-index==0.10.27->beyondllm) (24.1)\n",
            "Requirement already satisfied: pyasn1<0.7.0,>=0.4.6 in /usr/local/lib/python3.10/dist-packages (from pyasn1-modules>=0.2.1->google-auth>=2.15.0->google-generativeai<0.5.0,>=0.4.1->llama-index-embeddings-gemini==0.1.6->beyondllm) (0.6.0)\n",
            "Downloading beyondllm-0.2.3-py3-none-any.whl (54 kB)\n",
            "\u001b[2K   \u001b[90m━━━━━━━━━━━━━━━━━━━━━━━━━━━━━━━━━━━━━━━━\u001b[0m \u001b[32m54.9/54.9 kB\u001b[0m \u001b[31m4.0 MB/s\u001b[0m eta \u001b[36m0:00:00\u001b[0m\n",
            "\u001b[?25hDownloading llama_index-0.10.27-py3-none-any.whl (6.9 kB)\n",
            "Downloading llama_index_embeddings_gemini-0.1.6-py3-none-any.whl (2.9 kB)\n",
            "Downloading openai-1.20.0-py3-none-any.whl (292 kB)\n",
            "\u001b[2K   \u001b[90m━━━━━━━━━━━━━━━━━━━━━━━━━━━━━━━━━━━━━━━━\u001b[0m \u001b[32m292.8/292.8 kB\u001b[0m \u001b[31m7.4 MB/s\u001b[0m eta \u001b[36m0:00:00\u001b[0m\n",
            "\u001b[?25hDownloading pandas-2.0.3-cp310-cp310-manylinux_2_17_x86_64.manylinux2014_x86_64.whl (12.3 MB)\n",
            "\u001b[2K   \u001b[90m━━━━━━━━━━━━━━━━━━━━━━━━━━━━━━━━━━━━━━━━\u001b[0m \u001b[32m12.3/12.3 MB\u001b[0m \u001b[31m80.9 MB/s\u001b[0m eta \u001b[36m0:00:00\u001b[0m\n",
            "\u001b[?25hDownloading pypdf-4.2.0-py3-none-any.whl (290 kB)\n",
            "\u001b[2K   \u001b[90m━━━━━━━━━━━━━━━━━━━━━━━━━━━━━━━━━━━━━━━━\u001b[0m \u001b[32m290.4/290.4 kB\u001b[0m \u001b[31m20.0 MB/s\u001b[0m eta \u001b[36m0:00:00\u001b[0m\n",
            "\u001b[?25hDownloading pysbd-0.3.4-py3-none-any.whl (71 kB)\n",
            "\u001b[2K   \u001b[90m━━━━━━━━━━━━━━━━━━━━━━━━━━━━━━━━━━━━━━━━\u001b[0m \u001b[32m71.1/71.1 kB\u001b[0m \u001b[31m5.9 MB/s\u001b[0m eta \u001b[36m0:00:00\u001b[0m\n",
            "\u001b[?25hDownloading PyYAML-6.0.1-cp310-cp310-manylinux_2_17_x86_64.manylinux2014_x86_64.whl (705 kB)\n",
            "\u001b[2K   \u001b[90m━━━━━━━━━━━━━━━━━━━━━━━━━━━━━━━━━━━━━━━━\u001b[0m \u001b[32m705.5/705.5 kB\u001b[0m \u001b[31m42.8 MB/s\u001b[0m eta \u001b[36m0:00:00\u001b[0m\n",
            "\u001b[?25hDownloading regex-2024.4.16-cp310-cp310-manylinux_2_17_x86_64.manylinux2014_x86_64.whl (773 kB)\n",
            "\u001b[2K   \u001b[90m━━━━━━━━━━━━━━━━━━━━━━━━━━━━━━━━━━━━━━━━\u001b[0m \u001b[32m774.0/774.0 kB\u001b[0m \u001b[31m39.8 MB/s\u001b[0m eta \u001b[36m0:00:00\u001b[0m\n",
            "\u001b[?25hDownloading SQLAlchemy-2.0.29-cp310-cp310-manylinux_2_17_x86_64.manylinux2014_x86_64.whl (3.1 MB)\n",
            "\u001b[2K   \u001b[90m━━━━━━━━━━━━━━━━━━━━━━━━━━━━━━━━━━━━━━━━\u001b[0m \u001b[32m3.1/3.1 MB\u001b[0m \u001b[31m73.7 MB/s\u001b[0m eta \u001b[36m0:00:00\u001b[0m\n",
            "\u001b[?25hDownloading tiktoken-0.6.0-cp310-cp310-manylinux_2_17_x86_64.manylinux2014_x86_64.whl (1.8 MB)\n",
            "\u001b[2K   \u001b[90m━━━━━━━━━━━━━━━━━━━━━━━━━━━━━━━━━━━━━━━━\u001b[0m \u001b[32m1.8/1.8 MB\u001b[0m \u001b[31m65.5 MB/s\u001b[0m eta \u001b[36m0:00:00\u001b[0m\n",
            "\u001b[?25hDownloading pydantic-1.10.18-cp310-cp310-manylinux_2_17_x86_64.manylinux2014_x86_64.whl (3.1 MB)\n",
            "\u001b[2K   \u001b[90m━━━━━━━━━━━━━━━━━━━━━━━━━━━━━━━━━━━━━━━━\u001b[0m \u001b[32m3.1/3.1 MB\u001b[0m \u001b[31m78.1 MB/s\u001b[0m eta \u001b[36m0:00:00\u001b[0m\n",
            "\u001b[?25hDownloading google_generativeai-0.4.1-py3-none-any.whl (137 kB)\n",
            "\u001b[2K   \u001b[90m━━━━━━━━━━━━━━━━━━━━━━━━━━━━━━━━━━━━━━━━\u001b[0m \u001b[32m137.4/137.4 kB\u001b[0m \u001b[31m9.8 MB/s\u001b[0m eta \u001b[36m0:00:00\u001b[0m\n",
            "\u001b[?25hDownloading google_ai_generativelanguage-0.4.0-py3-none-any.whl (598 kB)\n",
            "\u001b[2K   \u001b[90m━━━━━━━━━━━━━━━━━━━━━━━━━━━━━━━━━━━━━━━━\u001b[0m \u001b[32m598.7/598.7 kB\u001b[0m \u001b[31m33.0 MB/s\u001b[0m eta \u001b[36m0:00:00\u001b[0m\n",
            "\u001b[?25hDownloading httpx-0.27.2-py3-none-any.whl (76 kB)\n",
            "\u001b[2K   \u001b[90m━━━━━━━━━━━━━━━━━━━━━━━━━━━━━━━━━━━━━━━━\u001b[0m \u001b[32m76.4/76.4 kB\u001b[0m \u001b[31m5.8 MB/s\u001b[0m eta \u001b[36m0:00:00\u001b[0m\n",
            "\u001b[?25hDownloading httpcore-1.0.5-py3-none-any.whl (77 kB)\n",
            "\u001b[2K   \u001b[90m━━━━━━━━━━━━━━━━━━━━━━━━━━━━━━━━━━━━━━━━\u001b[0m \u001b[32m77.9/77.9 kB\u001b[0m \u001b[31m6.1 MB/s\u001b[0m eta \u001b[36m0:00:00\u001b[0m\n",
            "\u001b[?25hDownloading llama_index_agent_openai-0.2.9-py3-none-any.whl (13 kB)\n",
            "Downloading llama_index_cli-0.1.13-py3-none-any.whl (27 kB)\n",
            "Downloading llama_index_core-0.10.68.post1-py3-none-any.whl (1.6 MB)\n",
            "\u001b[2K   \u001b[90m━━━━━━━━━━━━━━━━━━━━━━━━━━━━━━━━━━━━━━━━\u001b[0m \u001b[32m1.6/1.6 MB\u001b[0m \u001b[31m60.3 MB/s\u001b[0m eta \u001b[36m0:00:00\u001b[0m\n",
            "\u001b[?25hDownloading llama_index_embeddings_openai-0.1.11-py3-none-any.whl (6.3 kB)\n",
            "Downloading llama_index_indices_managed_llama_cloud-0.1.6-py3-none-any.whl (6.7 kB)\n",
            "Downloading llama_index_legacy-0.9.48.post3-py3-none-any.whl (1.2 MB)\n",
            "\u001b[2K   \u001b[90m━━━━━━━━━━━━━━━━━━━━━━━━━━━━━━━━━━━━━━━━\u001b[0m \u001b[32m1.2/1.2 MB\u001b[0m \u001b[31m53.8 MB/s\u001b[0m eta \u001b[36m0:00:00\u001b[0m\n",
            "\u001b[?25hDownloading llama_index_llms_openai-0.1.27-py3-none-any.whl (11 kB)\n",
            "Downloading llama_index_multi_modal_llms_openai-0.1.9-py3-none-any.whl (5.9 kB)\n",
            "Downloading llama_index_program_openai-0.1.7-py3-none-any.whl (5.3 kB)\n",
            "Downloading llama_index_question_gen_openai-0.1.3-py3-none-any.whl (2.9 kB)\n",
            "Downloading llama_index_readers_file-0.1.33-py3-none-any.whl (38 kB)\n",
            "Downloading llama_index_readers_llama_parse-0.1.6-py3-none-any.whl (2.5 kB)\n",
            "Downloading Deprecated-1.2.14-py2.py3-none-any.whl (9.6 kB)\n",
            "Downloading dirtyjson-1.0.8-py3-none-any.whl (25 kB)\n",
            "Downloading llama_parse-0.4.9-py3-none-any.whl (9.4 kB)\n",
            "Downloading llamaindex_py_client-0.1.19-py3-none-any.whl (141 kB)\n",
            "\u001b[2K   \u001b[90m━━━━━━━━━━━━━━━━━━━━━━━━━━━━━━━━━━━━━━━━\u001b[0m \u001b[32m141.9/141.9 kB\u001b[0m \u001b[31m11.0 MB/s\u001b[0m eta \u001b[36m0:00:00\u001b[0m\n",
            "\u001b[?25hDownloading striprtf-0.0.26-py3-none-any.whl (6.9 kB)\n",
            "Downloading tenacity-8.5.0-py3-none-any.whl (28 kB)\n",
            "Downloading typing_inspect-0.9.0-py3-none-any.whl (8.8 kB)\n",
            "Downloading dataclasses_json-0.6.7-py3-none-any.whl (28 kB)\n",
            "Downloading h11-0.14.0-py3-none-any.whl (58 kB)\n",
            "\u001b[2K   \u001b[90m━━━━━━━━━━━━━━━━━━━━━━━━━━━━━━━━━━━━━━━━\u001b[0m \u001b[32m58.3/58.3 kB\u001b[0m \u001b[31m4.4 MB/s\u001b[0m eta \u001b[36m0:00:00\u001b[0m\n",
            "\u001b[?25hDownloading marshmallow-3.22.0-py3-none-any.whl (49 kB)\n",
            "\u001b[2K   \u001b[90m━━━━━━━━━━━━━━━━━━━━━━━━━━━━━━━━━━━━━━━━\u001b[0m \u001b[32m49.3/49.3 kB\u001b[0m \u001b[31m3.7 MB/s\u001b[0m eta \u001b[36m0:00:00\u001b[0m\n",
            "\u001b[?25hDownloading mypy_extensions-1.0.0-py3-none-any.whl (4.7 kB)\n",
            "Installing collected packages: striprtf, dirtyjson, tenacity, sqlalchemy, regex, pyyaml, pysbd, pypdf, pydantic, mypy-extensions, marshmallow, h11, deprecated, typing-inspect, tiktoken, pandas, httpcore, httpx, dataclasses-json, openai, llamaindex-py-client, llama-index-core, llama-parse, llama-index-readers-file, llama-index-llms-openai, llama-index-legacy, llama-index-indices-managed-llama-cloud, llama-index-embeddings-openai, google-ai-generativelanguage, llama-index-readers-llama-parse, llama-index-multi-modal-llms-openai, llama-index-cli, llama-index-agent-openai, google-generativeai, llama-index-program-openai, llama-index-embeddings-gemini, llama-index-question-gen-openai, llama-index, beyondllm\n",
            "  Attempting uninstall: tenacity\n",
            "    Found existing installation: tenacity 9.0.0\n",
            "    Uninstalling tenacity-9.0.0:\n",
            "      Successfully uninstalled tenacity-9.0.0\n",
            "  Attempting uninstall: sqlalchemy\n",
            "    Found existing installation: SQLAlchemy 2.0.34\n",
            "    Uninstalling SQLAlchemy-2.0.34:\n",
            "      Successfully uninstalled SQLAlchemy-2.0.34\n",
            "  Attempting uninstall: regex\n",
            "    Found existing installation: regex 2024.5.15\n",
            "    Uninstalling regex-2024.5.15:\n",
            "      Successfully uninstalled regex-2024.5.15\n",
            "  Attempting uninstall: pyyaml\n",
            "    Found existing installation: PyYAML 6.0.2\n",
            "    Uninstalling PyYAML-6.0.2:\n",
            "      Successfully uninstalled PyYAML-6.0.2\n",
            "  Attempting uninstall: pydantic\n",
            "    Found existing installation: pydantic 2.9.1\n",
            "    Uninstalling pydantic-2.9.1:\n",
            "      Successfully uninstalled pydantic-2.9.1\n",
            "  Attempting uninstall: pandas\n",
            "    Found existing installation: pandas 2.1.4\n",
            "    Uninstalling pandas-2.1.4:\n",
            "      Successfully uninstalled pandas-2.1.4\n",
            "  Attempting uninstall: google-ai-generativelanguage\n",
            "    Found existing installation: google-ai-generativelanguage 0.6.6\n",
            "    Uninstalling google-ai-generativelanguage-0.6.6:\n",
            "      Successfully uninstalled google-ai-generativelanguage-0.6.6\n",
            "  Attempting uninstall: google-generativeai\n",
            "    Found existing installation: google-generativeai 0.7.2\n",
            "    Uninstalling google-generativeai-0.7.2:\n",
            "      Successfully uninstalled google-generativeai-0.7.2\n",
            "\u001b[31mERROR: pip's dependency resolver does not currently take into account all the packages that are installed. This behaviour is the source of the following dependency conflicts.\n",
            "albumentations 1.4.14 requires pydantic>=2.7.0, but you have pydantic 1.10.18 which is incompatible.\n",
            "google-colab 1.0.0 requires pandas==2.1.4, but you have pandas 2.0.3 which is incompatible.\u001b[0m\u001b[31m\n",
            "\u001b[0mSuccessfully installed beyondllm-0.2.3 dataclasses-json-0.6.7 deprecated-1.2.14 dirtyjson-1.0.8 google-ai-generativelanguage-0.4.0 google-generativeai-0.4.1 h11-0.14.0 httpcore-1.0.5 httpx-0.27.2 llama-index-0.10.27 llama-index-agent-openai-0.2.9 llama-index-cli-0.1.13 llama-index-core-0.10.68.post1 llama-index-embeddings-gemini-0.1.6 llama-index-embeddings-openai-0.1.11 llama-index-indices-managed-llama-cloud-0.1.6 llama-index-legacy-0.9.48.post3 llama-index-llms-openai-0.1.27 llama-index-multi-modal-llms-openai-0.1.9 llama-index-program-openai-0.1.7 llama-index-question-gen-openai-0.1.3 llama-index-readers-file-0.1.33 llama-index-readers-llama-parse-0.1.6 llama-parse-0.4.9 llamaindex-py-client-0.1.19 marshmallow-3.22.0 mypy-extensions-1.0.0 openai-1.20.0 pandas-2.0.3 pydantic-1.10.18 pypdf-4.2.0 pysbd-0.3.4 pyyaml-6.0.1 regex-2024.4.16 sqlalchemy-2.0.29 striprtf-0.0.26 tenacity-8.5.0 tiktoken-0.6.0 typing-inspect-0.9.0\n"
          ]
        },
        {
          "output_type": "display_data",
          "data": {
            "application/vnd.colab-display-data+json": {
              "pip_warning": {
                "packages": [
                  "google"
                ]
              },
              "id": "158559ed620a48a79f71d18586d5db1c"
            }
          },
          "metadata": {}
        },
        {
          "output_type": "stream",
          "name": "stdout",
          "text": [
            "Collecting gradio\n",
            "  Downloading gradio-4.44.0-py3-none-any.whl.metadata (15 kB)\n",
            "Collecting aiofiles<24.0,>=22.0 (from gradio)\n",
            "  Downloading aiofiles-23.2.1-py3-none-any.whl.metadata (9.7 kB)\n",
            "Requirement already satisfied: anyio<5.0,>=3.0 in /usr/local/lib/python3.10/dist-packages (from gradio) (3.7.1)\n",
            "Collecting fastapi<1.0 (from gradio)\n",
            "  Downloading fastapi-0.114.1-py3-none-any.whl.metadata (27 kB)\n",
            "Collecting ffmpy (from gradio)\n",
            "  Downloading ffmpy-0.4.0-py3-none-any.whl.metadata (2.9 kB)\n",
            "Collecting gradio-client==1.3.0 (from gradio)\n",
            "  Downloading gradio_client-1.3.0-py3-none-any.whl.metadata (7.1 kB)\n",
            "Requirement already satisfied: httpx>=0.24.1 in /usr/local/lib/python3.10/dist-packages (from gradio) (0.27.2)\n",
            "Requirement already satisfied: huggingface-hub>=0.19.3 in /usr/local/lib/python3.10/dist-packages (from gradio) (0.24.6)\n",
            "Requirement already satisfied: importlib-resources<7.0,>=1.3 in /usr/local/lib/python3.10/dist-packages (from gradio) (6.4.5)\n",
            "Requirement already satisfied: jinja2<4.0 in /usr/local/lib/python3.10/dist-packages (from gradio) (3.1.4)\n",
            "Requirement already satisfied: markupsafe~=2.0 in /usr/local/lib/python3.10/dist-packages (from gradio) (2.1.5)\n",
            "Requirement already satisfied: matplotlib~=3.0 in /usr/local/lib/python3.10/dist-packages (from gradio) (3.7.1)\n",
            "Requirement already satisfied: numpy<3.0,>=1.0 in /usr/local/lib/python3.10/dist-packages (from gradio) (1.26.4)\n",
            "Collecting orjson~=3.0 (from gradio)\n",
            "  Downloading orjson-3.10.7-cp310-cp310-manylinux_2_17_x86_64.manylinux2014_x86_64.whl.metadata (50 kB)\n",
            "\u001b[2K     \u001b[90m━━━━━━━━━━━━━━━━━━━━━━━━━━━━━━━━━━━━━━━━\u001b[0m \u001b[32m50.4/50.4 kB\u001b[0m \u001b[31m3.1 MB/s\u001b[0m eta \u001b[36m0:00:00\u001b[0m\n",
            "\u001b[?25hRequirement already satisfied: packaging in /usr/local/lib/python3.10/dist-packages (from gradio) (24.1)\n",
            "Requirement already satisfied: pandas<3.0,>=1.0 in /usr/local/lib/python3.10/dist-packages (from gradio) (2.0.3)\n",
            "Requirement already satisfied: pillow<11.0,>=8.0 in /usr/local/lib/python3.10/dist-packages (from gradio) (9.4.0)\n",
            "Collecting pydantic>=2.0 (from gradio)\n",
            "  Using cached pydantic-2.9.1-py3-none-any.whl.metadata (146 kB)\n",
            "Collecting pydub (from gradio)\n",
            "  Downloading pydub-0.25.1-py2.py3-none-any.whl.metadata (1.4 kB)\n",
            "Collecting python-multipart>=0.0.9 (from gradio)\n",
            "  Downloading python_multipart-0.0.9-py3-none-any.whl.metadata (2.5 kB)\n",
            "Requirement already satisfied: pyyaml<7.0,>=5.0 in /usr/local/lib/python3.10/dist-packages (from gradio) (6.0.1)\n",
            "Collecting ruff>=0.2.2 (from gradio)\n",
            "  Downloading ruff-0.6.4-py3-none-manylinux_2_17_x86_64.manylinux2014_x86_64.whl.metadata (25 kB)\n",
            "Collecting semantic-version~=2.0 (from gradio)\n",
            "  Downloading semantic_version-2.10.0-py2.py3-none-any.whl.metadata (9.7 kB)\n",
            "Collecting tomlkit==0.12.0 (from gradio)\n",
            "  Downloading tomlkit-0.12.0-py3-none-any.whl.metadata (2.7 kB)\n",
            "Requirement already satisfied: typer<1.0,>=0.12 in /usr/local/lib/python3.10/dist-packages (from gradio) (0.12.5)\n",
            "Requirement already satisfied: typing-extensions~=4.0 in /usr/local/lib/python3.10/dist-packages (from gradio) (4.12.2)\n",
            "Requirement already satisfied: urllib3~=2.0 in /usr/local/lib/python3.10/dist-packages (from gradio) (2.0.7)\n",
            "Collecting uvicorn>=0.14.0 (from gradio)\n",
            "  Downloading uvicorn-0.30.6-py3-none-any.whl.metadata (6.6 kB)\n",
            "Requirement already satisfied: fsspec in /usr/local/lib/python3.10/dist-packages (from gradio-client==1.3.0->gradio) (2024.6.1)\n",
            "Collecting websockets<13.0,>=10.0 (from gradio-client==1.3.0->gradio)\n",
            "  Downloading websockets-12.0-cp310-cp310-manylinux_2_5_x86_64.manylinux1_x86_64.manylinux_2_17_x86_64.manylinux2014_x86_64.whl.metadata (6.6 kB)\n",
            "Requirement already satisfied: idna>=2.8 in /usr/local/lib/python3.10/dist-packages (from anyio<5.0,>=3.0->gradio) (3.8)\n",
            "Requirement already satisfied: sniffio>=1.1 in /usr/local/lib/python3.10/dist-packages (from anyio<5.0,>=3.0->gradio) (1.3.1)\n",
            "Requirement already satisfied: exceptiongroup in /usr/local/lib/python3.10/dist-packages (from anyio<5.0,>=3.0->gradio) (1.2.2)\n",
            "Collecting starlette<0.39.0,>=0.37.2 (from fastapi<1.0->gradio)\n",
            "  Downloading starlette-0.38.5-py3-none-any.whl.metadata (6.0 kB)\n",
            "Requirement already satisfied: certifi in /usr/local/lib/python3.10/dist-packages (from httpx>=0.24.1->gradio) (2024.8.30)\n",
            "Requirement already satisfied: httpcore==1.* in /usr/local/lib/python3.10/dist-packages (from httpx>=0.24.1->gradio) (1.0.5)\n",
            "Requirement already satisfied: h11<0.15,>=0.13 in /usr/local/lib/python3.10/dist-packages (from httpcore==1.*->httpx>=0.24.1->gradio) (0.14.0)\n",
            "Requirement already satisfied: filelock in /usr/local/lib/python3.10/dist-packages (from huggingface-hub>=0.19.3->gradio) (3.16.0)\n",
            "Requirement already satisfied: requests in /usr/local/lib/python3.10/dist-packages (from huggingface-hub>=0.19.3->gradio) (2.32.3)\n",
            "Requirement already satisfied: tqdm>=4.42.1 in /usr/local/lib/python3.10/dist-packages (from huggingface-hub>=0.19.3->gradio) (4.66.5)\n",
            "Requirement already satisfied: contourpy>=1.0.1 in /usr/local/lib/python3.10/dist-packages (from matplotlib~=3.0->gradio) (1.3.0)\n",
            "Requirement already satisfied: cycler>=0.10 in /usr/local/lib/python3.10/dist-packages (from matplotlib~=3.0->gradio) (0.12.1)\n",
            "Requirement already satisfied: fonttools>=4.22.0 in /usr/local/lib/python3.10/dist-packages (from matplotlib~=3.0->gradio) (4.53.1)\n",
            "Requirement already satisfied: kiwisolver>=1.0.1 in /usr/local/lib/python3.10/dist-packages (from matplotlib~=3.0->gradio) (1.4.7)\n",
            "Requirement already satisfied: pyparsing>=2.3.1 in /usr/local/lib/python3.10/dist-packages (from matplotlib~=3.0->gradio) (3.1.4)\n",
            "Requirement already satisfied: python-dateutil>=2.7 in /usr/local/lib/python3.10/dist-packages (from matplotlib~=3.0->gradio) (2.8.2)\n",
            "Requirement already satisfied: pytz>=2020.1 in /usr/local/lib/python3.10/dist-packages (from pandas<3.0,>=1.0->gradio) (2024.1)\n",
            "Requirement already satisfied: tzdata>=2022.1 in /usr/local/lib/python3.10/dist-packages (from pandas<3.0,>=1.0->gradio) (2024.1)\n",
            "Requirement already satisfied: annotated-types>=0.6.0 in /usr/local/lib/python3.10/dist-packages (from pydantic>=2.0->gradio) (0.7.0)\n",
            "Requirement already satisfied: pydantic-core==2.23.3 in /usr/local/lib/python3.10/dist-packages (from pydantic>=2.0->gradio) (2.23.3)\n",
            "Requirement already satisfied: click>=8.0.0 in /usr/local/lib/python3.10/dist-packages (from typer<1.0,>=0.12->gradio) (8.1.7)\n",
            "Requirement already satisfied: shellingham>=1.3.0 in /usr/local/lib/python3.10/dist-packages (from typer<1.0,>=0.12->gradio) (1.5.4)\n",
            "Requirement already satisfied: rich>=10.11.0 in /usr/local/lib/python3.10/dist-packages (from typer<1.0,>=0.12->gradio) (13.8.1)\n",
            "Requirement already satisfied: six>=1.5 in /usr/local/lib/python3.10/dist-packages (from python-dateutil>=2.7->matplotlib~=3.0->gradio) (1.16.0)\n",
            "Requirement already satisfied: markdown-it-py>=2.2.0 in /usr/local/lib/python3.10/dist-packages (from rich>=10.11.0->typer<1.0,>=0.12->gradio) (3.0.0)\n",
            "Requirement already satisfied: pygments<3.0.0,>=2.13.0 in /usr/local/lib/python3.10/dist-packages (from rich>=10.11.0->typer<1.0,>=0.12->gradio) (2.16.1)\n",
            "Requirement already satisfied: charset-normalizer<4,>=2 in /usr/local/lib/python3.10/dist-packages (from requests->huggingface-hub>=0.19.3->gradio) (3.3.2)\n",
            "Requirement already satisfied: mdurl~=0.1 in /usr/local/lib/python3.10/dist-packages (from markdown-it-py>=2.2.0->rich>=10.11.0->typer<1.0,>=0.12->gradio) (0.1.2)\n",
            "Downloading gradio-4.44.0-py3-none-any.whl (18.1 MB)\n",
            "\u001b[2K   \u001b[90m━━━━━━━━━━━━━━━━━━━━━━━━━━━━━━━━━━━━━━━━\u001b[0m \u001b[32m18.1/18.1 MB\u001b[0m \u001b[31m61.0 MB/s\u001b[0m eta \u001b[36m0:00:00\u001b[0m\n",
            "\u001b[?25hDownloading gradio_client-1.3.0-py3-none-any.whl (318 kB)\n",
            "\u001b[2K   \u001b[90m━━━━━━━━━━━━━━━━━━━━━━━━━━━━━━━━━━━━━━━━\u001b[0m \u001b[32m318.7/318.7 kB\u001b[0m \u001b[31m22.6 MB/s\u001b[0m eta \u001b[36m0:00:00\u001b[0m\n",
            "\u001b[?25hDownloading tomlkit-0.12.0-py3-none-any.whl (37 kB)\n",
            "Downloading aiofiles-23.2.1-py3-none-any.whl (15 kB)\n",
            "Downloading fastapi-0.114.1-py3-none-any.whl (94 kB)\n",
            "\u001b[2K   \u001b[90m━━━━━━━━━━━━━━━━━━━━━━━━━━━━━━━━━━━━━━━━\u001b[0m \u001b[32m94.0/94.0 kB\u001b[0m \u001b[31m6.2 MB/s\u001b[0m eta \u001b[36m0:00:00\u001b[0m\n",
            "\u001b[?25hDownloading orjson-3.10.7-cp310-cp310-manylinux_2_17_x86_64.manylinux2014_x86_64.whl (141 kB)\n",
            "\u001b[2K   \u001b[90m━━━━━━━━━━━━━━━━━━━━━━━━━━━━━━━━━━━━━━━━\u001b[0m \u001b[32m141.9/141.9 kB\u001b[0m \u001b[31m10.3 MB/s\u001b[0m eta \u001b[36m0:00:00\u001b[0m\n",
            "\u001b[?25hUsing cached pydantic-2.9.1-py3-none-any.whl (434 kB)\n",
            "Downloading python_multipart-0.0.9-py3-none-any.whl (22 kB)\n",
            "Downloading ruff-0.6.4-py3-none-manylinux_2_17_x86_64.manylinux2014_x86_64.whl (10.3 MB)\n",
            "\u001b[2K   \u001b[90m━━━━━━━━━━━━━━━━━━━━━━━━━━━━━━━━━━━━━━━━\u001b[0m \u001b[32m10.3/10.3 MB\u001b[0m \u001b[31m74.3 MB/s\u001b[0m eta \u001b[36m0:00:00\u001b[0m\n",
            "\u001b[?25hDownloading semantic_version-2.10.0-py2.py3-none-any.whl (15 kB)\n",
            "Downloading uvicorn-0.30.6-py3-none-any.whl (62 kB)\n",
            "\u001b[2K   \u001b[90m━━━━━━━━━━━━━━━━━━━━━━━━━━━━━━━━━━━━━━━━\u001b[0m \u001b[32m62.8/62.8 kB\u001b[0m \u001b[31m4.9 MB/s\u001b[0m eta \u001b[36m0:00:00\u001b[0m\n",
            "\u001b[?25hDownloading ffmpy-0.4.0-py3-none-any.whl (5.8 kB)\n",
            "Downloading pydub-0.25.1-py2.py3-none-any.whl (32 kB)\n",
            "Downloading starlette-0.38.5-py3-none-any.whl (71 kB)\n",
            "\u001b[2K   \u001b[90m━━━━━━━━━━━━━━━━━━━━━━━━━━━━━━━━━━━━━━━━\u001b[0m \u001b[32m71.4/71.4 kB\u001b[0m \u001b[31m5.1 MB/s\u001b[0m eta \u001b[36m0:00:00\u001b[0m\n",
            "\u001b[?25hDownloading websockets-12.0-cp310-cp310-manylinux_2_5_x86_64.manylinux1_x86_64.manylinux_2_17_x86_64.manylinux2014_x86_64.whl (130 kB)\n",
            "\u001b[2K   \u001b[90m━━━━━━━━━━━━━━━━━━━━━━━━━━━━━━━━━━━━━━━━\u001b[0m \u001b[32m130.2/130.2 kB\u001b[0m \u001b[31m9.4 MB/s\u001b[0m eta \u001b[36m0:00:00\u001b[0m\n",
            "\u001b[?25hInstalling collected packages: pydub, websockets, uvicorn, tomlkit, semantic-version, ruff, python-multipart, orjson, ffmpy, aiofiles, starlette, pydantic, gradio-client, fastapi, gradio\n",
            "  Attempting uninstall: tomlkit\n",
            "    Found existing installation: tomlkit 0.13.2\n",
            "    Uninstalling tomlkit-0.13.2:\n",
            "      Successfully uninstalled tomlkit-0.13.2\n",
            "  Attempting uninstall: pydantic\n",
            "    Found existing installation: pydantic 1.10.18\n",
            "    Uninstalling pydantic-1.10.18:\n",
            "      Successfully uninstalled pydantic-1.10.18\n",
            "\u001b[31mERROR: pip's dependency resolver does not currently take into account all the packages that are installed. This behaviour is the source of the following dependency conflicts.\n",
            "beyondllm 0.2.3 requires pydantic<2,>=1.10.5, but you have pydantic 2.9.1 which is incompatible.\u001b[0m\u001b[31m\n",
            "\u001b[0mSuccessfully installed aiofiles-23.2.1 fastapi-0.114.1 ffmpy-0.4.0 gradio-4.44.0 gradio-client-1.3.0 orjson-3.10.7 pydantic-2.9.1 pydub-0.25.1 python-multipart-0.0.9 ruff-0.6.4 semantic-version-2.10.0 starlette-0.38.5 tomlkit-0.12.0 uvicorn-0.30.6 websockets-12.0\n"
          ]
        }
      ],
      "source": [
        "# Install packages\n",
        "\n",
        "!pip install beyondllm\n",
        "!pip install gradio"
      ]
    },
    {
      "cell_type": "code",
      "execution_count": null,
      "metadata": {
        "id": "g0U0zafivcmm",
        "colab": {
          "base_uri": "https://localhost:8080/"
        },
        "outputId": "b77b1fb9-a09a-472e-e55e-e12e463a3d22"
      },
      "outputs": [
        {
          "output_type": "stream",
          "name": "stderr",
          "text": [
            "[nltk_data] Downloading package punkt_tab to\n",
            "[nltk_data]     /usr/local/lib/python3.10/dist-\n",
            "[nltk_data]     packages/llama_index/core/_static/nltk_cache...\n",
            "[nltk_data]   Unzipping tokenizers/punkt_tab.zip.\n"
          ]
        }
      ],
      "source": [
        "# Import the required packages\n",
        "\n",
        "from getpass import getpass\n",
        "import os\n",
        "from beyondllm import source,retrieve,embeddings,llms,generator\n",
        "from beyondllm.embeddings import GeminiEmbeddings\n",
        "\n",
        "# Used to securely store your API key\n",
        "from google.colab import userdata\n",
        "\n",
        "import gradio as gr"
      ]
    },
    {
      "cell_type": "code",
      "execution_count": null,
      "metadata": {
        "colab": {
          "base_uri": "https://localhost:8080/"
        },
        "id": "vU5XeT54aL5Q",
        "outputId": "dc77b2ff-382f-4be2-f21b-ce7fa6f4a90c"
      },
      "outputs": [
        {
          "output_type": "stream",
          "name": "stdout",
          "text": [
            "Drive already mounted at /content/drive; to attempt to forcibly remount, call drive.mount(\"/content/drive\", force_remount=True).\n"
          ]
        }
      ],
      "source": [
        "# Google drive\n",
        "from google.colab import drive\n",
        "drive.mount('/content/drive')"
      ]
    },
    {
      "cell_type": "code",
      "execution_count": null,
      "metadata": {
        "id": "VGk19WLlZoGj"
      },
      "outputs": [],
      "source": [
        "# API KEYS\n",
        "GOOGLE_API_KEY=userdata.get('GOOGLE_API_KEYL')"
      ]
    },
    {
      "cell_type": "markdown",
      "metadata": {
        "id": "_H9F_DCeHTtu"
      },
      "source": [
        "## Load Data\n",
        "\n",
        "Access to data on drive: https://drive.google.com/file/d/1Gu0RygMX11nUwzE6Wjvj9f5w3IOoOcGP/view?usp=sharing"
      ]
    },
    {
      "cell_type": "code",
      "execution_count": null,
      "metadata": {
        "id": "LHxG1HIguZqG"
      },
      "outputs": [],
      "source": [
        "# Fit the data from the pdf file\n",
        "data_pdf = source.fit(path=\"/content/drive/MyDrive/Colab Notebooks/Bootcamp RAG & Agents - AI Planet/Challenge/Data/2402.17764v1.pdf\", dtype=\"pdf\", chunk_size=1024, chunk_overlap=100)"
      ]
    },
    {
      "cell_type": "markdown",
      "metadata": {
        "id": "1JnCKLCbH2KX"
      },
      "source": [
        "## Load Embedding Model"
      ]
    },
    {
      "cell_type": "code",
      "execution_count": null,
      "metadata": {
        "id": "vuBOnDMtT4jK"
      },
      "outputs": [],
      "source": [
        "# Load the embedding model\n",
        "model_name_eb=\"models/embedding-001\"\n",
        "embed_model_ge = GeminiEmbeddings(api_key=GOOGLE_API_KEY, model_name=model_name_eb)"
      ]
    },
    {
      "cell_type": "markdown",
      "metadata": {
        "id": "6ltzIuLCIQBI"
      },
      "source": [
        "## Create Retriever"
      ]
    },
    {
      "cell_type": "code",
      "execution_count": null,
      "metadata": {
        "id": "YEQGRCtSIPRZ"
      },
      "outputs": [],
      "source": [
        "# Initialize Retriever with Hybrid search\n",
        "retriever_pdf = retrieve.auto_retriever(\n",
        "    data=data_pdf,\n",
        "    embed_model=embed_model_ge,\n",
        "    type=\"hybrid\",\n",
        "    mode=\"OR\",\n",
        "    top_k=3)"
      ]
    },
    {
      "cell_type": "markdown",
      "metadata": {
        "id": "Rk-rXB1EIkEt"
      },
      "source": [
        "## Load LLM"
      ]
    },
    {
      "cell_type": "code",
      "execution_count": null,
      "metadata": {
        "id": "AKZaHFhsIPdM"
      },
      "outputs": [],
      "source": [
        "# Load the LLM model\n",
        "\n",
        "llm = llms.GeminiModel(\n",
        "    model_name=\"gemini-pro\",\n",
        "    google_api_key=GOOGLE_API_KEY)"
      ]
    },
    {
      "cell_type": "markdown",
      "source": [
        "## Test Response"
      ],
      "metadata": {
        "id": "qYexudxnQIZV"
      }
    },
    {
      "cell_type": "code",
      "source": [
        "# Test the Pipeline\n",
        "def pipeline_test(query: str):\n",
        "    pipeline = generator.Generate(question=query, retriever=retriever_pdf, llm=llm)\n",
        "    response = pipeline.call()\n",
        "    evaluate = pipeline.get_rag_triad_evals()\n",
        "    response = f\"\\n\\n{response}\\n\\nRAG Triad Evaluations:\\n{evaluate}\"\n",
        "    return response\n",
        "\n",
        "pipeline_test = pipeline_test(\"What is talked about in the document. Explain to me in five main points.\")\n",
        "print(pipeline_test)"
      ],
      "metadata": {
        "colab": {
          "base_uri": "https://localhost:8080/",
          "height": 349
        },
        "id": "hXMJXLWuQMDK",
        "outputId": "4b2906e4-fb17-49c5-a7e6-aed940f6684f"
      },
      "execution_count": null,
      "outputs": [
        {
          "output_type": "stream",
          "name": "stdout",
          "text": [
            "LLM is explicitly disabled. Using MockLLM.\n",
            "Embeddings have been explicitly disabled. Using MockEmbedding.\n",
            "Executing RAG Triad Evaluations...\n",
            "\n",
            "\n",
            "1. **Activation-aware weight quantization (AWQ)**: A technique for compressing and accelerating large language models (LLMs) by quantizing their weights based on their activation patterns.\n",
            "2. **Can a suit of armor conduct electricity?** A dataset for open book question answering that focuses on questions that require a broad understanding of the world.\n",
            "3. **Pointer sentinel mixture models**: A type of neural network model for language generation that uses a mixture of pointers and sentinels to generate text.\n",
            "4. **The LAMBADA dataset**: A dataset for word prediction that requires a broad discourse context.\n",
            "5. **Llama 2**: An open and efficient foundation language model that can be fine-tuned for various tasks, including chat.\n",
            "\n",
            "RAG Triad Evaluations:\n",
            "Context relevancy Score: 1.0\n",
            "This response does not meet the evaluation threshold. Consider refining the structure and content for better clarity and effectiveness.\n",
            "Answer relevancy Score: 8.0\n",
            "This response meets the evaluation threshold. It demonstrates strong comprehension and coherence.\n",
            "Groundness score: 6.8\n",
            "This response does not meet the evaluation threshold. Consider refining the structure and content for better clarity and effectiveness.\n"
          ]
        }
      ]
    },
    {
      "cell_type": "markdown",
      "metadata": {
        "id": "gACH9xdmSSfw"
      },
      "source": [
        "## Gradio App: Chat With PDF"
      ]
    },
    {
      "cell_type": "code",
      "execution_count": null,
      "metadata": {
        "id": "Ach18hR0SUlG",
        "colab": {
          "base_uri": "https://localhost:8080/",
          "height": 854
        },
        "outputId": "04de63a2-2a0f-4c3b-8172-1c5c36c84870"
      },
      "outputs": [
        {
          "output_type": "stream",
          "name": "stdout",
          "text": [
            "Colab notebook detected. This cell will run indefinitely so that you can see errors and logs. To turn off, set debug=False in launch().\n",
            "Running on public URL: https://631f7f770ed4afae63.gradio.live\n",
            "\n",
            "This share link expires in 72 hours. For free permanent hosting and GPU upgrades, run `gradio deploy` from Terminal to deploy to Spaces (https://huggingface.co/spaces)\n"
          ]
        },
        {
          "output_type": "display_data",
          "data": {
            "text/plain": [
              "<IPython.core.display.HTML object>"
            ],
            "text/html": [
              "<div><iframe src=\"https://631f7f770ed4afae63.gradio.live\" width=\"100%\" height=\"500\" allow=\"autoplay; camera; microphone; clipboard-read; clipboard-write;\" frameborder=\"0\" allowfullscreen></iframe></div>"
            ]
          },
          "metadata": {}
        },
        {
          "output_type": "stream",
          "name": "stdout",
          "text": [
            "LLM is explicitly disabled. Using MockLLM.\n",
            "Embeddings have been explicitly disabled. Using MockEmbedding.\n",
            "Executing RAG Triad Evaluations...\n",
            "LLM is explicitly disabled. Using MockLLM.\n",
            "Embeddings have been explicitly disabled. Using MockEmbedding.\n",
            "Executing RAG Triad Evaluations...\n",
            "LLM is explicitly disabled. Using MockLLM.\n",
            "Embeddings have been explicitly disabled. Using MockEmbedding.\n",
            "Executing RAG Triad Evaluations...\n",
            "LLM is explicitly disabled. Using MockLLM.\n",
            "Embeddings have been explicitly disabled. Using MockEmbedding.\n",
            "Executing RAG Triad Evaluations...\n",
            "Keyboard interruption in main thread... closing server.\n",
            "Killing tunnel 127.0.0.1:7860 <> https://631f7f770ed4afae63.gradio.live\n"
          ]
        },
        {
          "output_type": "execute_result",
          "data": {
            "text/plain": []
          },
          "metadata": {},
          "execution_count": 9
        }
      ],
      "source": [
        "# Example Prompts\n",
        "# You can use these prompts to test the app.\n",
        "prompts_examples = [\"Is there talk about LLMs in this document?\",\n",
        "                    \"Is Artificial Intelligence discussed in this Document?\",\n",
        "                    \"What is talked about in the document. Explain to me in three main points.\",\n",
        "                    \"Tell me briefly about what is being discussed in: BitNet b1.58\",\n",
        "                    \"Others\",]\n",
        "\n",
        "# Bot response function\n",
        "def bot_app(query: str, chat_history: list) -> tuple:\n",
        "        try:\n",
        "\n",
        "            pipeline = generator.Generate(question=query, retriever=retriever_pdf, llm=llm)\n",
        "            response = pipeline.call()\n",
        "            evaluate = pipeline.get_rag_triad_evals()\n",
        "            response = f\"{response}\\n\\nRAG Triad Evaluations:\\n{evaluate}\"\n",
        "            chat_history.append((query, response))\n",
        "            return '', chat_history\n",
        "\n",
        "        except Exception as e:\n",
        "            chat_history.append((query, e))\n",
        "            return '', chat_history\n",
        "\n",
        "# Gradio Event Loop\n",
        "\n",
        "CSS =\"\"\"\n",
        ".contain { display: flex; flex-direction: column; height:80vh;}\n",
        "#component-0 { height: 100%; }\n",
        "#chatbot { flex-grow: 1; overflow: auto;}\n",
        "\"\"\"\n",
        "THEME = gr.themes.Default(primary_hue=\"green\")\n",
        "\n",
        "def get_demo():\n",
        "    with gr.Blocks(css=CSS, theme=THEME) as demo:\n",
        "        chatbot = gr.Chatbot(elem_id=\"chatbot\")\n",
        "        with gr.Row():\n",
        "            msg = gr.Textbox(label=\"Human, enter your prompt!!!\", placeholder=\"Enter text\", scale=4,)\n",
        "\n",
        "        clear = gr.ClearButton([msg, chatbot])\n",
        "        msg.submit(bot_app, [msg, chatbot], [msg, chatbot], queue=False)\n",
        "    return demo\n",
        "\n",
        "# App Deployment\n",
        "demo = get_demo()\n",
        "demo.launch(share = True, debug=True)"
      ]
    },
    {
      "cell_type": "markdown",
      "metadata": {
        "id": "eAzg7yrWuauM"
      },
      "source": [
        "# Question 2: AI Agent using OpenAGI"
      ]
    },
    {
      "cell_type": "markdown",
      "metadata": {
        "id": "Pe8KTtHY8hyt"
      },
      "source": [
        "## Setup"
      ]
    },
    {
      "cell_type": "code",
      "execution_count": null,
      "metadata": {
        "colab": {
          "base_uri": "https://localhost:8080/"
        },
        "id": "nKXvJsXc8fds",
        "outputId": "480935d9-bc93-4551-9c14-d5a5a4c667f4"
      },
      "outputs": [
        {
          "output_type": "stream",
          "name": "stdout",
          "text": [
            "Requirement already satisfied: openagi in /usr/local/lib/python3.10/dist-packages (0.2.9.5)\n",
            "Requirement already satisfied: azure-identity<2.0.0,>=1.15.0 in /usr/local/lib/python3.10/dist-packages (from openagi) (1.17.1)\n",
            "Requirement already satisfied: chromadb<0.6.0,>=0.5.0 in /usr/local/lib/python3.10/dist-packages (from openagi) (0.5.5)\n",
            "Requirement already satisfied: duckduckgo-search<7.0.0,>=6.1.0 in /usr/local/lib/python3.10/dist-packages (from openagi) (6.2.11)\n",
            "Requirement already satisfied: faiss-cpu<2.0.0,>=1.8.0 in /usr/local/lib/python3.10/dist-packages (from openagi) (1.8.0.post1)\n",
            "Requirement already satisfied: fake-useragent<2.0.0,>=1.5.1 in /usr/local/lib/python3.10/dist-packages (from openagi) (1.5.1)\n",
            "Requirement already satisfied: fastapi<0.111.0,>=0.110.0 in /usr/local/lib/python3.10/dist-packages (from openagi) (0.110.3)\n",
            "Requirement already satisfied: google-api-python-client<3.0.0,>=2.121.0 in /usr/local/lib/python3.10/dist-packages (from openagi) (2.137.0)\n",
            "Requirement already satisfied: google-auth-httplib2<0.3.0,>=0.2.0 in /usr/local/lib/python3.10/dist-packages (from openagi) (0.2.0)\n",
            "Requirement already satisfied: google-auth-oauthlib<2.0.0,>=1.2.0 in /usr/local/lib/python3.10/dist-packages (from openagi) (1.2.1)\n",
            "Requirement already satisfied: google-search-results<3.0.0,>=2.4.2 in /usr/local/lib/python3.10/dist-packages (from openagi) (2.4.2)\n",
            "Requirement already satisfied: langchain==0.1.8 in /usr/local/lib/python3.10/dist-packages (from openagi) (0.1.8)\n",
            "Requirement already satisfied: langchain-community==0.0.21 in /usr/local/lib/python3.10/dist-packages (from openagi) (0.0.21)\n",
            "Requirement already satisfied: langchain-exa<0.0.2,>=0.0.1 in /usr/local/lib/python3.10/dist-packages (from openagi) (0.0.1)\n",
            "Requirement already satisfied: langchain-experimental<0.0.54,>=0.0.53 in /usr/local/lib/python3.10/dist-packages (from openagi) (0.0.53)\n",
            "Requirement already satisfied: langchain-openai==0.0.6 in /usr/local/lib/python3.10/dist-packages (from openagi) (0.0.6)\n",
            "Requirement already satisfied: langchain-text-splitters<0.0.2,>=0.0.1 in /usr/local/lib/python3.10/dist-packages (from openagi) (0.0.1)\n",
            "Requirement already satisfied: langchainhub<0.2.0,>=0.1.15 in /usr/local/lib/python3.10/dist-packages (from openagi) (0.1.21)\n",
            "Requirement already satisfied: numpy<2.0.0,>=1.26.4 in /usr/local/lib/python3.10/dist-packages (from openagi) (1.26.4)\n",
            "Requirement already satisfied: ollama<0.2.0,>=0.1.7 in /usr/local/lib/python3.10/dist-packages (from openagi) (0.1.9)\n",
            "Requirement already satisfied: pandas<3.0.0,>=2.2.2 in /usr/local/lib/python3.10/dist-packages (from openagi) (2.2.2)\n",
            "Requirement already satisfied: pygithub<3.0.0,>=2.3.0 in /usr/local/lib/python3.10/dist-packages (from openagi) (2.4.0)\n",
            "Requirement already satisfied: pypdf<5.0.0,>=4.2.0 in /usr/local/lib/python3.10/dist-packages (from openagi) (4.2.0)\n",
            "Requirement already satisfied: pytest<9.0.0,>=8.2.0 in /usr/local/lib/python3.10/dist-packages (from openagi) (8.3.2)\n",
            "Requirement already satisfied: python-dotenv<2.0.0,>=1.0.1 in /usr/local/lib/python3.10/dist-packages (from openagi) (1.0.1)\n",
            "Requirement already satisfied: python-multipart<0.0.10,>=0.0.9 in /usr/local/lib/python3.10/dist-packages (from openagi) (0.0.9)\n",
            "Requirement already satisfied: spacy==3.7.4 in /usr/local/lib/python3.10/dist-packages (from openagi) (3.7.4)\n",
            "Requirement already satisfied: spacytextblob<5.0.0,>=4.0.0 in /usr/local/lib/python3.10/dist-packages (from openagi) (4.0.0)\n",
            "Requirement already satisfied: sumy<0.12.0,>=0.11.0 in /usr/local/lib/python3.10/dist-packages (from openagi) (0.11.0)\n",
            "Requirement already satisfied: transformers<5.0.0,>=4.40.0 in /usr/local/lib/python3.10/dist-packages (from openagi) (4.44.2)\n",
            "Requirement already satisfied: uvicorn<0.30.0,>=0.29.0 in /usr/local/lib/python3.10/dist-packages (from openagi) (0.29.0)\n",
            "Requirement already satisfied: wikipedia<2.0.0,>=1.4.0 in /usr/local/lib/python3.10/dist-packages (from openagi) (1.4.0)\n",
            "Requirement already satisfied: xorbits<0.8.0,>=0.7.2 in /usr/local/lib/python3.10/dist-packages (from openagi) (0.7.3)\n",
            "Requirement already satisfied: yfinance<0.3.0,>=0.2.37 in /usr/local/lib/python3.10/dist-packages (from openagi) (0.2.43)\n",
            "Requirement already satisfied: PyYAML>=5.3 in /usr/local/lib/python3.10/dist-packages (from langchain==0.1.8->openagi) (6.0.1)\n",
            "Requirement already satisfied: SQLAlchemy<3,>=1.4 in /usr/local/lib/python3.10/dist-packages (from langchain==0.1.8->openagi) (2.0.29)\n",
            "Requirement already satisfied: aiohttp<4.0.0,>=3.8.3 in /usr/local/lib/python3.10/dist-packages (from langchain==0.1.8->openagi) (3.10.5)\n",
            "Requirement already satisfied: async-timeout<5.0.0,>=4.0.0 in /usr/local/lib/python3.10/dist-packages (from langchain==0.1.8->openagi) (4.0.3)\n",
            "Requirement already satisfied: dataclasses-json<0.7,>=0.5.7 in /usr/local/lib/python3.10/dist-packages (from langchain==0.1.8->openagi) (0.6.7)\n",
            "Requirement already satisfied: jsonpatch<2.0,>=1.33 in /usr/local/lib/python3.10/dist-packages (from langchain==0.1.8->openagi) (1.33)\n",
            "Collecting langchain-core<0.2,>=0.1.24 (from langchain==0.1.8->openagi)\n",
            "  Using cached langchain_core-0.1.52-py3-none-any.whl.metadata (5.9 kB)\n",
            "Requirement already satisfied: langsmith<0.2.0,>=0.1.0 in /usr/local/lib/python3.10/dist-packages (from langchain==0.1.8->openagi) (0.1.116)\n",
            "Requirement already satisfied: pydantic<3,>=1 in /usr/local/lib/python3.10/dist-packages (from langchain==0.1.8->openagi) (2.9.0)\n",
            "Requirement already satisfied: requests<3,>=2 in /usr/local/lib/python3.10/dist-packages (from langchain==0.1.8->openagi) (2.32.3)\n",
            "Requirement already satisfied: tenacity<9.0.0,>=8.1.0 in /usr/local/lib/python3.10/dist-packages (from langchain==0.1.8->openagi) (8.5.0)\n",
            "Requirement already satisfied: openai<2.0.0,>=1.10.0 in /usr/local/lib/python3.10/dist-packages (from langchain-openai==0.0.6->openagi) (1.20.0)\n",
            "Requirement already satisfied: tiktoken<1,>=0.5.2 in /usr/local/lib/python3.10/dist-packages (from langchain-openai==0.0.6->openagi) (0.6.0)\n",
            "Requirement already satisfied: spacy-legacy<3.1.0,>=3.0.11 in /usr/local/lib/python3.10/dist-packages (from spacy==3.7.4->openagi) (3.0.12)\n",
            "Requirement already satisfied: spacy-loggers<2.0.0,>=1.0.0 in /usr/local/lib/python3.10/dist-packages (from spacy==3.7.4->openagi) (1.0.5)\n",
            "Requirement already satisfied: murmurhash<1.1.0,>=0.28.0 in /usr/local/lib/python3.10/dist-packages (from spacy==3.7.4->openagi) (1.0.10)\n",
            "Requirement already satisfied: cymem<2.1.0,>=2.0.2 in /usr/local/lib/python3.10/dist-packages (from spacy==3.7.4->openagi) (2.0.8)\n",
            "Requirement already satisfied: preshed<3.1.0,>=3.0.2 in /usr/local/lib/python3.10/dist-packages (from spacy==3.7.4->openagi) (3.0.9)\n",
            "Requirement already satisfied: thinc<8.3.0,>=8.2.2 in /usr/local/lib/python3.10/dist-packages (from spacy==3.7.4->openagi) (8.2.5)\n",
            "Requirement already satisfied: wasabi<1.2.0,>=0.9.1 in /usr/local/lib/python3.10/dist-packages (from spacy==3.7.4->openagi) (1.1.3)\n",
            "Requirement already satisfied: srsly<3.0.0,>=2.4.3 in /usr/local/lib/python3.10/dist-packages (from spacy==3.7.4->openagi) (2.4.8)\n",
            "Requirement already satisfied: catalogue<2.1.0,>=2.0.6 in /usr/local/lib/python3.10/dist-packages (from spacy==3.7.4->openagi) (2.0.10)\n",
            "Requirement already satisfied: weasel<0.4.0,>=0.1.0 in /usr/local/lib/python3.10/dist-packages (from spacy==3.7.4->openagi) (0.3.4)\n",
            "Requirement already satisfied: typer<0.10.0,>=0.3.0 in /usr/local/lib/python3.10/dist-packages (from spacy==3.7.4->openagi) (0.9.4)\n",
            "Requirement already satisfied: smart-open<7.0.0,>=5.2.1 in /usr/local/lib/python3.10/dist-packages (from spacy==3.7.4->openagi) (6.4.0)\n",
            "Requirement already satisfied: tqdm<5.0.0,>=4.38.0 in /usr/local/lib/python3.10/dist-packages (from spacy==3.7.4->openagi) (4.66.5)\n",
            "Requirement already satisfied: jinja2 in /usr/local/lib/python3.10/dist-packages (from spacy==3.7.4->openagi) (3.1.4)\n",
            "Requirement already satisfied: setuptools in /usr/local/lib/python3.10/dist-packages (from spacy==3.7.4->openagi) (71.0.4)\n",
            "Requirement already satisfied: packaging>=20.0 in /usr/local/lib/python3.10/dist-packages (from spacy==3.7.4->openagi) (23.2)\n",
            "Requirement already satisfied: langcodes<4.0.0,>=3.2.0 in /usr/local/lib/python3.10/dist-packages (from spacy==3.7.4->openagi) (3.4.0)\n",
            "Requirement already satisfied: azure-core>=1.23.0 in /usr/local/lib/python3.10/dist-packages (from azure-identity<2.0.0,>=1.15.0->openagi) (1.30.2)\n",
            "Requirement already satisfied: cryptography>=2.5 in /usr/local/lib/python3.10/dist-packages (from azure-identity<2.0.0,>=1.15.0->openagi) (43.0.0)\n",
            "Requirement already satisfied: msal>=1.24.0 in /usr/local/lib/python3.10/dist-packages (from azure-identity<2.0.0,>=1.15.0->openagi) (1.31.0)\n",
            "Requirement already satisfied: msal-extensions>=0.3.0 in /usr/local/lib/python3.10/dist-packages (from azure-identity<2.0.0,>=1.15.0->openagi) (1.2.0)\n",
            "Requirement already satisfied: typing-extensions>=4.0.0 in /usr/local/lib/python3.10/dist-packages (from azure-identity<2.0.0,>=1.15.0->openagi) (4.12.2)\n",
            "Requirement already satisfied: build>=1.0.3 in /usr/local/lib/python3.10/dist-packages (from chromadb<0.6.0,>=0.5.0->openagi) (1.2.1)\n",
            "Requirement already satisfied: chroma-hnswlib==0.7.6 in /usr/local/lib/python3.10/dist-packages (from chromadb<0.6.0,>=0.5.0->openagi) (0.7.6)\n",
            "Requirement already satisfied: posthog>=2.4.0 in /usr/local/lib/python3.10/dist-packages (from chromadb<0.6.0,>=0.5.0->openagi) (3.6.3)\n",
            "Requirement already satisfied: onnxruntime>=1.14.1 in /usr/local/lib/python3.10/dist-packages (from chromadb<0.6.0,>=0.5.0->openagi) (1.19.2)\n",
            "Requirement already satisfied: opentelemetry-api>=1.2.0 in /usr/local/lib/python3.10/dist-packages (from chromadb<0.6.0,>=0.5.0->openagi) (1.27.0)\n",
            "Requirement already satisfied: opentelemetry-exporter-otlp-proto-grpc>=1.2.0 in /usr/local/lib/python3.10/dist-packages (from chromadb<0.6.0,>=0.5.0->openagi) (1.27.0)\n",
            "Requirement already satisfied: opentelemetry-instrumentation-fastapi>=0.41b0 in /usr/local/lib/python3.10/dist-packages (from chromadb<0.6.0,>=0.5.0->openagi) (0.48b0)\n",
            "Requirement already satisfied: opentelemetry-sdk>=1.2.0 in /usr/local/lib/python3.10/dist-packages (from chromadb<0.6.0,>=0.5.0->openagi) (1.27.0)\n",
            "Requirement already satisfied: tokenizers>=0.13.2 in /usr/local/lib/python3.10/dist-packages (from chromadb<0.6.0,>=0.5.0->openagi) (0.19.1)\n",
            "Requirement already satisfied: pypika>=0.48.9 in /usr/local/lib/python3.10/dist-packages (from chromadb<0.6.0,>=0.5.0->openagi) (0.48.9)\n",
            "Requirement already satisfied: overrides>=7.3.1 in /usr/local/lib/python3.10/dist-packages (from chromadb<0.6.0,>=0.5.0->openagi) (7.7.0)\n",
            "Requirement already satisfied: importlib-resources in /usr/local/lib/python3.10/dist-packages (from chromadb<0.6.0,>=0.5.0->openagi) (6.4.4)\n",
            "Requirement already satisfied: grpcio>=1.58.0 in /usr/local/lib/python3.10/dist-packages (from chromadb<0.6.0,>=0.5.0->openagi) (1.64.1)\n",
            "Requirement already satisfied: bcrypt>=4.0.1 in /usr/local/lib/python3.10/dist-packages (from chromadb<0.6.0,>=0.5.0->openagi) (4.2.0)\n",
            "Requirement already satisfied: kubernetes>=28.1.0 in /usr/local/lib/python3.10/dist-packages (from chromadb<0.6.0,>=0.5.0->openagi) (30.1.0)\n",
            "Requirement already satisfied: mmh3>=4.0.1 in /usr/local/lib/python3.10/dist-packages (from chromadb<0.6.0,>=0.5.0->openagi) (4.1.0)\n",
            "Requirement already satisfied: orjson>=3.9.12 in /usr/local/lib/python3.10/dist-packages (from chromadb<0.6.0,>=0.5.0->openagi) (3.10.7)\n",
            "Requirement already satisfied: httpx>=0.27.0 in /usr/local/lib/python3.10/dist-packages (from chromadb<0.6.0,>=0.5.0->openagi) (0.27.2)\n",
            "Requirement already satisfied: click>=8.1.7 in /usr/local/lib/python3.10/dist-packages (from duckduckgo-search<7.0.0,>=6.1.0->openagi) (8.1.7)\n",
            "Requirement already satisfied: primp>=0.6.1 in /usr/local/lib/python3.10/dist-packages (from duckduckgo-search<7.0.0,>=6.1.0->openagi) (0.6.1)\n",
            "Requirement already satisfied: starlette<0.38.0,>=0.37.2 in /usr/local/lib/python3.10/dist-packages (from fastapi<0.111.0,>=0.110.0->openagi) (0.37.2)\n",
            "Requirement already satisfied: httplib2<1.dev0,>=0.19.0 in /usr/local/lib/python3.10/dist-packages (from google-api-python-client<3.0.0,>=2.121.0->openagi) (0.22.0)\n",
            "Requirement already satisfied: google-auth!=2.24.0,!=2.25.0,<3.0.0.dev0,>=1.32.0 in /usr/local/lib/python3.10/dist-packages (from google-api-python-client<3.0.0,>=2.121.0->openagi) (2.27.0)\n",
            "Requirement already satisfied: google-api-core!=2.0.*,!=2.1.*,!=2.2.*,!=2.3.0,<3.0.0.dev0,>=1.31.5 in /usr/local/lib/python3.10/dist-packages (from google-api-python-client<3.0.0,>=2.121.0->openagi) (2.19.2)\n",
            "Requirement already satisfied: uritemplate<5,>=3.0.1 in /usr/local/lib/python3.10/dist-packages (from google-api-python-client<3.0.0,>=2.121.0->openagi) (4.1.1)\n",
            "Requirement already satisfied: requests-oauthlib>=0.7.0 in /usr/local/lib/python3.10/dist-packages (from google-auth-oauthlib<2.0.0,>=1.2.0->openagi) (1.3.1)\n",
            "Requirement already satisfied: exa-py<2.0.0,>=1.0.7 in /usr/local/lib/python3.10/dist-packages (from langchain-exa<0.0.2,>=0.0.1->openagi) (1.1.0)\n",
            "Requirement already satisfied: types-requests<3.0.0.0,>=2.31.0.2 in /usr/local/lib/python3.10/dist-packages (from langchainhub<0.2.0,>=0.1.15->openagi) (2.32.0.20240907)\n",
            "Requirement already satisfied: python-dateutil>=2.8.2 in /usr/local/lib/python3.10/dist-packages (from pandas<3.0.0,>=2.2.2->openagi) (2.8.2)\n",
            "Requirement already satisfied: pytz>=2020.1 in /usr/local/lib/python3.10/dist-packages (from pandas<3.0.0,>=2.2.2->openagi) (2024.1)\n",
            "Requirement already satisfied: tzdata>=2022.7 in /usr/local/lib/python3.10/dist-packages (from pandas<3.0.0,>=2.2.2->openagi) (2024.1)\n",
            "Requirement already satisfied: pynacl>=1.4.0 in /usr/local/lib/python3.10/dist-packages (from pygithub<3.0.0,>=2.3.0->openagi) (1.5.0)\n",
            "Requirement already satisfied: pyjwt>=2.4.0 in /usr/local/lib/python3.10/dist-packages (from pyjwt[crypto]>=2.4.0->pygithub<3.0.0,>=2.3.0->openagi) (2.9.0)\n",
            "Requirement already satisfied: urllib3>=1.26.0 in /usr/local/lib/python3.10/dist-packages (from pygithub<3.0.0,>=2.3.0->openagi) (2.0.7)\n",
            "Requirement already satisfied: Deprecated in /usr/local/lib/python3.10/dist-packages (from pygithub<3.0.0,>=2.3.0->openagi) (1.2.14)\n",
            "Requirement already satisfied: iniconfig in /usr/local/lib/python3.10/dist-packages (from pytest<9.0.0,>=8.2.0->openagi) (2.0.0)\n",
            "Requirement already satisfied: pluggy<2,>=1.5 in /usr/local/lib/python3.10/dist-packages (from pytest<9.0.0,>=8.2.0->openagi) (1.5.0)\n",
            "Requirement already satisfied: exceptiongroup>=1.0.0rc8 in /usr/local/lib/python3.10/dist-packages (from pytest<9.0.0,>=8.2.0->openagi) (1.2.2)\n",
            "Requirement already satisfied: tomli>=1 in /usr/local/lib/python3.10/dist-packages (from pytest<9.0.0,>=8.2.0->openagi) (2.0.1)\n",
            "Requirement already satisfied: textblob<0.16.0,>=0.15.3 in /usr/local/lib/python3.10/dist-packages (from spacytextblob<5.0.0,>=4.0.0->openagi) (0.15.3)\n",
            "Requirement already satisfied: docopt<0.7,>=0.6.1 in /usr/local/lib/python3.10/dist-packages (from sumy<0.12.0,>=0.11.0->openagi) (0.6.2)\n",
            "Requirement already satisfied: breadability>=0.1.20 in /usr/local/lib/python3.10/dist-packages (from sumy<0.12.0,>=0.11.0->openagi) (0.1.20)\n",
            "Requirement already satisfied: pycountry>=18.2.23 in /usr/local/lib/python3.10/dist-packages (from sumy<0.12.0,>=0.11.0->openagi) (24.6.1)\n",
            "Requirement already satisfied: nltk>=3.0.2 in /usr/local/lib/python3.10/dist-packages (from sumy<0.12.0,>=0.11.0->openagi) (3.8.1)\n",
            "Requirement already satisfied: filelock in /usr/local/lib/python3.10/dist-packages (from transformers<5.0.0,>=4.40.0->openagi) (3.15.4)\n",
            "Requirement already satisfied: huggingface-hub<1.0,>=0.23.2 in /usr/local/lib/python3.10/dist-packages (from transformers<5.0.0,>=4.40.0->openagi) (0.24.6)\n",
            "Requirement already satisfied: regex!=2019.12.17 in /usr/local/lib/python3.10/dist-packages (from transformers<5.0.0,>=4.40.0->openagi) (2024.4.16)\n",
            "Requirement already satisfied: safetensors>=0.4.1 in /usr/local/lib/python3.10/dist-packages (from transformers<5.0.0,>=4.40.0->openagi) (0.4.4)\n",
            "Requirement already satisfied: h11>=0.8 in /usr/local/lib/python3.10/dist-packages (from uvicorn<0.30.0,>=0.29.0->openagi) (0.14.0)\n",
            "Requirement already satisfied: beautifulsoup4 in /usr/local/lib/python3.10/dist-packages (from wikipedia<2.0.0,>=1.4.0->openagi) (4.12.3)\n",
            "Requirement already satisfied: xoscar>=0.0.8 in /usr/local/lib/python3.10/dist-packages (from xorbits<0.8.0,>=0.7.2->openagi) (0.3.3)\n",
            "Requirement already satisfied: psutil>=5.9.0 in /usr/local/lib/python3.10/dist-packages (from xorbits<0.8.0,>=0.7.2->openagi) (5.9.5)\n",
            "Requirement already satisfied: tornado>=6.0 in /usr/local/lib/python3.10/dist-packages (from xorbits<0.8.0,>=0.7.2->openagi) (6.3.3)\n",
            "Requirement already satisfied: defusedxml>=0.5.0 in /usr/local/lib/python3.10/dist-packages (from xorbits<0.8.0,>=0.7.2->openagi) (0.7.1)\n",
            "Requirement already satisfied: pyarrow>=5.0.0 in /usr/local/lib/python3.10/dist-packages (from xorbits<0.8.0,>=0.7.2->openagi) (14.0.2)\n",
            "Requirement already satisfied: fsspec!=2022.8.0,>=2022.7.1 in /usr/local/lib/python3.10/dist-packages (from xorbits<0.8.0,>=0.7.2->openagi) (2024.6.1)\n",
            "Requirement already satisfied: cloudpickle>=1.5.0 in /usr/local/lib/python3.10/dist-packages (from xorbits<0.8.0,>=0.7.2->openagi) (2.2.1)\n",
            "Requirement already satisfied: uvloop>=0.14.0 in /usr/local/lib/python3.10/dist-packages (from xorbits<0.8.0,>=0.7.2->openagi) (0.20.0)\n",
            "Requirement already satisfied: scipy>=1.0.0 in /usr/local/lib/python3.10/dist-packages (from xorbits<0.8.0,>=0.7.2->openagi) (1.13.1)\n",
            "Requirement already satisfied: scikit-learn>=1.1.3 in /usr/local/lib/python3.10/dist-packages (from xorbits<0.8.0,>=0.7.2->openagi) (1.3.2)\n",
            "Requirement already satisfied: multitasking>=0.0.7 in /usr/local/lib/python3.10/dist-packages (from yfinance<0.3.0,>=0.2.37->openagi) (0.0.11)\n",
            "Requirement already satisfied: lxml>=4.9.1 in /usr/local/lib/python3.10/dist-packages (from yfinance<0.3.0,>=0.2.37->openagi) (4.9.4)\n",
            "Requirement already satisfied: platformdirs>=2.0.0 in /usr/local/lib/python3.10/dist-packages (from yfinance<0.3.0,>=0.2.37->openagi) (4.2.2)\n",
            "Requirement already satisfied: frozendict>=2.3.4 in /usr/local/lib/python3.10/dist-packages (from yfinance<0.3.0,>=0.2.37->openagi) (2.4.4)\n",
            "Requirement already satisfied: peewee>=3.16.2 in /usr/local/lib/python3.10/dist-packages (from yfinance<0.3.0,>=0.2.37->openagi) (3.17.6)\n",
            "Requirement already satisfied: html5lib>=1.1 in /usr/local/lib/python3.10/dist-packages (from yfinance<0.3.0,>=0.2.37->openagi) (1.1)\n",
            "Requirement already satisfied: aiohappyeyeballs>=2.3.0 in /usr/local/lib/python3.10/dist-packages (from aiohttp<4.0.0,>=3.8.3->langchain==0.1.8->openagi) (2.4.0)\n",
            "Requirement already satisfied: aiosignal>=1.1.2 in /usr/local/lib/python3.10/dist-packages (from aiohttp<4.0.0,>=3.8.3->langchain==0.1.8->openagi) (1.3.1)\n",
            "Requirement already satisfied: attrs>=17.3.0 in /usr/local/lib/python3.10/dist-packages (from aiohttp<4.0.0,>=3.8.3->langchain==0.1.8->openagi) (24.2.0)\n",
            "Requirement already satisfied: frozenlist>=1.1.1 in /usr/local/lib/python3.10/dist-packages (from aiohttp<4.0.0,>=3.8.3->langchain==0.1.8->openagi) (1.4.1)\n",
            "Requirement already satisfied: multidict<7.0,>=4.5 in /usr/local/lib/python3.10/dist-packages (from aiohttp<4.0.0,>=3.8.3->langchain==0.1.8->openagi) (6.0.5)\n",
            "Requirement already satisfied: yarl<2.0,>=1.0 in /usr/local/lib/python3.10/dist-packages (from aiohttp<4.0.0,>=3.8.3->langchain==0.1.8->openagi) (1.9.4)\n",
            "Requirement already satisfied: six>=1.11.0 in /usr/local/lib/python3.10/dist-packages (from azure-core>=1.23.0->azure-identity<2.0.0,>=1.15.0->openagi) (1.16.0)\n",
            "Requirement already satisfied: soupsieve>1.2 in /usr/local/lib/python3.10/dist-packages (from beautifulsoup4->wikipedia<2.0.0,>=1.4.0->openagi) (2.6)\n",
            "Requirement already satisfied: chardet in /usr/local/lib/python3.10/dist-packages (from breadability>=0.1.20->sumy<0.12.0,>=0.11.0->openagi) (5.2.0)\n",
            "Requirement already satisfied: pyproject_hooks in /usr/local/lib/python3.10/dist-packages (from build>=1.0.3->chromadb<0.6.0,>=0.5.0->openagi) (1.1.0)\n",
            "Requirement already satisfied: cffi>=1.12 in /usr/local/lib/python3.10/dist-packages (from cryptography>=2.5->azure-identity<2.0.0,>=1.15.0->openagi) (1.17.0)\n",
            "Requirement already satisfied: marshmallow<4.0.0,>=3.18.0 in /usr/local/lib/python3.10/dist-packages (from dataclasses-json<0.7,>=0.5.7->langchain==0.1.8->openagi) (3.22.0)\n",
            "Requirement already satisfied: typing-inspect<1,>=0.4.0 in /usr/local/lib/python3.10/dist-packages (from dataclasses-json<0.7,>=0.5.7->langchain==0.1.8->openagi) (0.9.0)\n",
            "Requirement already satisfied: googleapis-common-protos<2.0.dev0,>=1.56.2 in /usr/local/lib/python3.10/dist-packages (from google-api-core!=2.0.*,!=2.1.*,!=2.2.*,!=2.3.0,<3.0.0.dev0,>=1.31.5->google-api-python-client<3.0.0,>=2.121.0->openagi) (1.65.0)\n",
            "Requirement already satisfied: protobuf!=3.20.0,!=3.20.1,!=4.21.0,!=4.21.1,!=4.21.2,!=4.21.3,!=4.21.4,!=4.21.5,<6.0.0.dev0,>=3.19.5 in /usr/local/lib/python3.10/dist-packages (from google-api-core!=2.0.*,!=2.1.*,!=2.2.*,!=2.3.0,<3.0.0.dev0,>=1.31.5->google-api-python-client<3.0.0,>=2.121.0->openagi) (3.20.3)\n",
            "Requirement already satisfied: proto-plus<2.0.0dev,>=1.22.3 in /usr/local/lib/python3.10/dist-packages (from google-api-core!=2.0.*,!=2.1.*,!=2.2.*,!=2.3.0,<3.0.0.dev0,>=1.31.5->google-api-python-client<3.0.0,>=2.121.0->openagi) (1.24.0)\n",
            "Requirement already satisfied: cachetools<6.0,>=2.0.0 in /usr/local/lib/python3.10/dist-packages (from google-auth!=2.24.0,!=2.25.0,<3.0.0.dev0,>=1.32.0->google-api-python-client<3.0.0,>=2.121.0->openagi) (5.5.0)\n",
            "Requirement already satisfied: pyasn1-modules>=0.2.1 in /usr/local/lib/python3.10/dist-packages (from google-auth!=2.24.0,!=2.25.0,<3.0.0.dev0,>=1.32.0->google-api-python-client<3.0.0,>=2.121.0->openagi) (0.4.0)\n",
            "Requirement already satisfied: rsa<5,>=3.1.4 in /usr/local/lib/python3.10/dist-packages (from google-auth!=2.24.0,!=2.25.0,<3.0.0.dev0,>=1.32.0->google-api-python-client<3.0.0,>=2.121.0->openagi) (4.9)\n",
            "Requirement already satisfied: webencodings in /usr/local/lib/python3.10/dist-packages (from html5lib>=1.1->yfinance<0.3.0,>=0.2.37->openagi) (0.5.1)\n",
            "Requirement already satisfied: pyparsing!=3.0.0,!=3.0.1,!=3.0.2,!=3.0.3,<4,>=2.4.2 in /usr/local/lib/python3.10/dist-packages (from httplib2<1.dev0,>=0.19.0->google-api-python-client<3.0.0,>=2.121.0->openagi) (3.1.4)\n",
            "Requirement already satisfied: anyio in /usr/local/lib/python3.10/dist-packages (from httpx>=0.27.0->chromadb<0.6.0,>=0.5.0->openagi) (3.7.1)\n",
            "Requirement already satisfied: certifi in /usr/local/lib/python3.10/dist-packages (from httpx>=0.27.0->chromadb<0.6.0,>=0.5.0->openagi) (2024.8.30)\n",
            "Requirement already satisfied: httpcore==1.* in /usr/local/lib/python3.10/dist-packages (from httpx>=0.27.0->chromadb<0.6.0,>=0.5.0->openagi) (1.0.5)\n",
            "Requirement already satisfied: idna in /usr/local/lib/python3.10/dist-packages (from httpx>=0.27.0->chromadb<0.6.0,>=0.5.0->openagi) (3.8)\n",
            "Requirement already satisfied: sniffio in /usr/local/lib/python3.10/dist-packages (from httpx>=0.27.0->chromadb<0.6.0,>=0.5.0->openagi) (1.3.1)\n",
            "Requirement already satisfied: jsonpointer>=1.9 in /usr/local/lib/python3.10/dist-packages (from jsonpatch<2.0,>=1.33->langchain==0.1.8->openagi) (3.0.0)\n",
            "Requirement already satisfied: websocket-client!=0.40.0,!=0.41.*,!=0.42.*,>=0.32.0 in /usr/local/lib/python3.10/dist-packages (from kubernetes>=28.1.0->chromadb<0.6.0,>=0.5.0->openagi) (1.8.0)\n",
            "Requirement already satisfied: oauthlib>=3.2.2 in /usr/local/lib/python3.10/dist-packages (from kubernetes>=28.1.0->chromadb<0.6.0,>=0.5.0->openagi) (3.2.2)\n",
            "Requirement already satisfied: language-data>=1.2 in /usr/local/lib/python3.10/dist-packages (from langcodes<4.0.0,>=3.2.0->spacy==3.7.4->openagi) (1.2.0)\n",
            "Requirement already satisfied: portalocker<3,>=1.4 in /usr/local/lib/python3.10/dist-packages (from msal-extensions>=0.3.0->azure-identity<2.0.0,>=1.15.0->openagi) (2.10.1)\n",
            "Requirement already satisfied: joblib in /usr/local/lib/python3.10/dist-packages (from nltk>=3.0.2->sumy<0.12.0,>=0.11.0->openagi) (1.4.2)\n",
            "Requirement already satisfied: coloredlogs in /usr/local/lib/python3.10/dist-packages (from onnxruntime>=1.14.1->chromadb<0.6.0,>=0.5.0->openagi) (15.0.1)\n",
            "Requirement already satisfied: flatbuffers in /usr/local/lib/python3.10/dist-packages (from onnxruntime>=1.14.1->chromadb<0.6.0,>=0.5.0->openagi) (24.3.25)\n",
            "Requirement already satisfied: sympy in /usr/local/lib/python3.10/dist-packages (from onnxruntime>=1.14.1->chromadb<0.6.0,>=0.5.0->openagi) (1.13.2)\n",
            "Requirement already satisfied: distro<2,>=1.7.0 in /usr/lib/python3/dist-packages (from openai<2.0.0,>=1.10.0->langchain-openai==0.0.6->openagi) (1.7.0)\n",
            "Requirement already satisfied: importlib-metadata<=8.4.0,>=6.0 in /usr/local/lib/python3.10/dist-packages (from opentelemetry-api>=1.2.0->chromadb<0.6.0,>=0.5.0->openagi) (8.4.0)\n",
            "Requirement already satisfied: wrapt<2,>=1.10 in /usr/local/lib/python3.10/dist-packages (from Deprecated->pygithub<3.0.0,>=2.3.0->openagi) (1.16.0)\n",
            "Requirement already satisfied: opentelemetry-exporter-otlp-proto-common==1.27.0 in /usr/local/lib/python3.10/dist-packages (from opentelemetry-exporter-otlp-proto-grpc>=1.2.0->chromadb<0.6.0,>=0.5.0->openagi) (1.27.0)\n",
            "Requirement already satisfied: opentelemetry-proto==1.27.0 in /usr/local/lib/python3.10/dist-packages (from opentelemetry-exporter-otlp-proto-grpc>=1.2.0->chromadb<0.6.0,>=0.5.0->openagi) (1.27.0)\n",
            "Requirement already satisfied: opentelemetry-instrumentation-asgi==0.48b0 in /usr/local/lib/python3.10/dist-packages (from opentelemetry-instrumentation-fastapi>=0.41b0->chromadb<0.6.0,>=0.5.0->openagi) (0.48b0)\n",
            "Requirement already satisfied: opentelemetry-instrumentation==0.48b0 in /usr/local/lib/python3.10/dist-packages (from opentelemetry-instrumentation-fastapi>=0.41b0->chromadb<0.6.0,>=0.5.0->openagi) (0.48b0)\n",
            "Requirement already satisfied: opentelemetry-semantic-conventions==0.48b0 in /usr/local/lib/python3.10/dist-packages (from opentelemetry-instrumentation-fastapi>=0.41b0->chromadb<0.6.0,>=0.5.0->openagi) (0.48b0)\n",
            "Requirement already satisfied: opentelemetry-util-http==0.48b0 in /usr/local/lib/python3.10/dist-packages (from opentelemetry-instrumentation-fastapi>=0.41b0->chromadb<0.6.0,>=0.5.0->openagi) (0.48b0)\n",
            "Requirement already satisfied: asgiref~=3.0 in /usr/local/lib/python3.10/dist-packages (from opentelemetry-instrumentation-asgi==0.48b0->opentelemetry-instrumentation-fastapi>=0.41b0->chromadb<0.6.0,>=0.5.0->openagi) (3.8.1)\n",
            "Requirement already satisfied: monotonic>=1.5 in /usr/local/lib/python3.10/dist-packages (from posthog>=2.4.0->chromadb<0.6.0,>=0.5.0->openagi) (1.6)\n",
            "Requirement already satisfied: backoff>=1.10.0 in /usr/local/lib/python3.10/dist-packages (from posthog>=2.4.0->chromadb<0.6.0,>=0.5.0->openagi) (2.2.1)\n",
            "Requirement already satisfied: annotated-types>=0.4.0 in /usr/local/lib/python3.10/dist-packages (from pydantic<3,>=1->langchain==0.1.8->openagi) (0.7.0)\n",
            "Requirement already satisfied: pydantic-core==2.23.2 in /usr/local/lib/python3.10/dist-packages (from pydantic<3,>=1->langchain==0.1.8->openagi) (2.23.2)\n",
            "Requirement already satisfied: charset-normalizer<4,>=2 in /usr/local/lib/python3.10/dist-packages (from requests<3,>=2->langchain==0.1.8->openagi) (3.3.2)\n",
            "Requirement already satisfied: threadpoolctl>=2.0.0 in /usr/local/lib/python3.10/dist-packages (from scikit-learn>=1.1.3->xorbits<0.8.0,>=0.7.2->openagi) (3.5.0)\n",
            "Requirement already satisfied: greenlet!=0.4.17 in /usr/local/lib/python3.10/dist-packages (from SQLAlchemy<3,>=1.4->langchain==0.1.8->openagi) (3.0.3)\n",
            "Requirement already satisfied: blis<0.8.0,>=0.7.8 in /usr/local/lib/python3.10/dist-packages (from thinc<8.3.0,>=8.2.2->spacy==3.7.4->openagi) (0.7.11)\n",
            "Requirement already satisfied: confection<1.0.0,>=0.0.1 in /usr/local/lib/python3.10/dist-packages (from thinc<8.3.0,>=8.2.2->spacy==3.7.4->openagi) (0.1.5)\n",
            "Requirement already satisfied: httptools>=0.5.0 in /usr/local/lib/python3.10/dist-packages (from uvicorn[standard]>=0.18.3->chromadb<0.6.0,>=0.5.0->openagi) (0.6.1)\n",
            "Requirement already satisfied: watchfiles>=0.13 in /usr/local/lib/python3.10/dist-packages (from uvicorn[standard]>=0.18.3->chromadb<0.6.0,>=0.5.0->openagi) (0.24.0)\n",
            "Requirement already satisfied: websockets>=10.4 in /usr/local/lib/python3.10/dist-packages (from uvicorn[standard]>=0.18.3->chromadb<0.6.0,>=0.5.0->openagi) (12.0)\n",
            "Requirement already satisfied: cloudpathlib<0.17.0,>=0.7.0 in /usr/local/lib/python3.10/dist-packages (from weasel<0.4.0,>=0.1.0->spacy==3.7.4->openagi) (0.16.0)\n",
            "Requirement already satisfied: tblib>=1.7.0 in /usr/local/lib/python3.10/dist-packages (from xoscar>=0.0.8->xorbits<0.8.0,>=0.7.2->openagi) (3.0.0)\n",
            "Requirement already satisfied: MarkupSafe>=2.0 in /usr/local/lib/python3.10/dist-packages (from jinja2->spacy==3.7.4->openagi) (2.1.5)\n",
            "Requirement already satisfied: pycparser in /usr/local/lib/python3.10/dist-packages (from cffi>=1.12->cryptography>=2.5->azure-identity<2.0.0,>=1.15.0->openagi) (2.22)\n",
            "Requirement already satisfied: zipp>=0.5 in /usr/local/lib/python3.10/dist-packages (from importlib-metadata<=8.4.0,>=6.0->opentelemetry-api>=1.2.0->chromadb<0.6.0,>=0.5.0->openagi) (3.20.1)\n",
            "Requirement already satisfied: marisa-trie>=0.7.7 in /usr/local/lib/python3.10/dist-packages (from language-data>=1.2->langcodes<4.0.0,>=3.2.0->spacy==3.7.4->openagi) (1.2.0)\n",
            "Requirement already satisfied: pyasn1<0.7.0,>=0.4.6 in /usr/local/lib/python3.10/dist-packages (from pyasn1-modules>=0.2.1->google-auth!=2.24.0,!=2.25.0,<3.0.0.dev0,>=1.32.0->google-api-python-client<3.0.0,>=2.121.0->openagi) (0.6.0)\n",
            "Requirement already satisfied: mypy-extensions>=0.3.0 in /usr/local/lib/python3.10/dist-packages (from typing-inspect<1,>=0.4.0->dataclasses-json<0.7,>=0.5.7->langchain==0.1.8->openagi) (1.0.0)\n",
            "Requirement already satisfied: humanfriendly>=9.1 in /usr/local/lib/python3.10/dist-packages (from coloredlogs->onnxruntime>=1.14.1->chromadb<0.6.0,>=0.5.0->openagi) (10.0)\n",
            "Requirement already satisfied: mpmath<1.4,>=1.1.0 in /usr/local/lib/python3.10/dist-packages (from sympy->onnxruntime>=1.14.1->chromadb<0.6.0,>=0.5.0->openagi) (1.3.0)\n",
            "Using cached langchain_core-0.1.52-py3-none-any.whl (302 kB)\n",
            "Installing collected packages: langchain-core\n",
            "  Attempting uninstall: langchain-core\n",
            "    Found existing installation: langchain-core 0.2.38\n",
            "    Uninstalling langchain-core-0.2.38:\n",
            "      Successfully uninstalled langchain-core-0.2.38\n",
            "\u001b[31mERROR: pip's dependency resolver does not currently take into account all the packages that are installed. This behaviour is the source of the following dependency conflicts.\n",
            "langchain-google-genai 1.0.10 requires langchain-core<0.3,>=0.2.33, but you have langchain-core 0.1.52 which is incompatible.\u001b[0m\u001b[31m\n",
            "\u001b[0mSuccessfully installed langchain-core-0.1.52\n",
            "Requirement already satisfied: tavily-python in /usr/local/lib/python3.10/dist-packages (0.4.0)\n",
            "Requirement already satisfied: requests in /usr/local/lib/python3.10/dist-packages (from tavily-python) (2.32.3)\n",
            "Requirement already satisfied: tiktoken>=0.5.1 in /usr/local/lib/python3.10/dist-packages (from tavily-python) (0.6.0)\n",
            "Requirement already satisfied: httpx in /usr/local/lib/python3.10/dist-packages (from tavily-python) (0.27.2)\n",
            "Requirement already satisfied: regex>=2022.1.18 in /usr/local/lib/python3.10/dist-packages (from tiktoken>=0.5.1->tavily-python) (2024.4.16)\n",
            "Requirement already satisfied: charset-normalizer<4,>=2 in /usr/local/lib/python3.10/dist-packages (from requests->tavily-python) (3.3.2)\n",
            "Requirement already satisfied: idna<4,>=2.5 in /usr/local/lib/python3.10/dist-packages (from requests->tavily-python) (3.8)\n",
            "Requirement already satisfied: urllib3<3,>=1.21.1 in /usr/local/lib/python3.10/dist-packages (from requests->tavily-python) (2.0.7)\n",
            "Requirement already satisfied: certifi>=2017.4.17 in /usr/local/lib/python3.10/dist-packages (from requests->tavily-python) (2024.8.30)\n",
            "Requirement already satisfied: anyio in /usr/local/lib/python3.10/dist-packages (from httpx->tavily-python) (3.7.1)\n",
            "Requirement already satisfied: httpcore==1.* in /usr/local/lib/python3.10/dist-packages (from httpx->tavily-python) (1.0.5)\n",
            "Requirement already satisfied: sniffio in /usr/local/lib/python3.10/dist-packages (from httpx->tavily-python) (1.3.1)\n",
            "Requirement already satisfied: h11<0.15,>=0.13 in /usr/local/lib/python3.10/dist-packages (from httpcore==1.*->httpx->tavily-python) (0.14.0)\n",
            "Requirement already satisfied: exceptiongroup in /usr/local/lib/python3.10/dist-packages (from anyio->httpx->tavily-python) (1.2.2)\n",
            "Requirement already satisfied: langchain-google-genai in /usr/local/lib/python3.10/dist-packages (1.0.10)\n",
            "Requirement already satisfied: google-generativeai<0.8.0,>=0.7.0 in /usr/local/lib/python3.10/dist-packages (from langchain-google-genai) (0.7.2)\n",
            "Collecting langchain-core<0.3,>=0.2.33 (from langchain-google-genai)\n",
            "  Using cached langchain_core-0.2.38-py3-none-any.whl.metadata (6.2 kB)\n",
            "Requirement already satisfied: google-ai-generativelanguage==0.6.6 in /usr/local/lib/python3.10/dist-packages (from google-generativeai<0.8.0,>=0.7.0->langchain-google-genai) (0.6.6)\n",
            "Requirement already satisfied: google-api-core in /usr/local/lib/python3.10/dist-packages (from google-generativeai<0.8.0,>=0.7.0->langchain-google-genai) (2.19.2)\n",
            "Requirement already satisfied: google-api-python-client in /usr/local/lib/python3.10/dist-packages (from google-generativeai<0.8.0,>=0.7.0->langchain-google-genai) (2.137.0)\n",
            "Requirement already satisfied: google-auth>=2.15.0 in /usr/local/lib/python3.10/dist-packages (from google-generativeai<0.8.0,>=0.7.0->langchain-google-genai) (2.27.0)\n",
            "Requirement already satisfied: protobuf in /usr/local/lib/python3.10/dist-packages (from google-generativeai<0.8.0,>=0.7.0->langchain-google-genai) (3.20.3)\n",
            "Requirement already satisfied: pydantic in /usr/local/lib/python3.10/dist-packages (from google-generativeai<0.8.0,>=0.7.0->langchain-google-genai) (2.9.0)\n",
            "Requirement already satisfied: tqdm in /usr/local/lib/python3.10/dist-packages (from google-generativeai<0.8.0,>=0.7.0->langchain-google-genai) (4.66.5)\n",
            "Requirement already satisfied: typing-extensions in /usr/local/lib/python3.10/dist-packages (from google-generativeai<0.8.0,>=0.7.0->langchain-google-genai) (4.12.2)\n",
            "Requirement already satisfied: proto-plus<2.0.0dev,>=1.22.3 in /usr/local/lib/python3.10/dist-packages (from google-ai-generativelanguage==0.6.6->google-generativeai<0.8.0,>=0.7.0->langchain-google-genai) (1.24.0)\n",
            "Requirement already satisfied: PyYAML>=5.3 in /usr/local/lib/python3.10/dist-packages (from langchain-core<0.3,>=0.2.33->langchain-google-genai) (6.0.1)\n",
            "Requirement already satisfied: jsonpatch<2.0,>=1.33 in /usr/local/lib/python3.10/dist-packages (from langchain-core<0.3,>=0.2.33->langchain-google-genai) (1.33)\n",
            "Requirement already satisfied: langsmith<0.2.0,>=0.1.75 in /usr/local/lib/python3.10/dist-packages (from langchain-core<0.3,>=0.2.33->langchain-google-genai) (0.1.116)\n",
            "Requirement already satisfied: packaging<25,>=23.2 in /usr/local/lib/python3.10/dist-packages (from langchain-core<0.3,>=0.2.33->langchain-google-genai) (23.2)\n",
            "Requirement already satisfied: tenacity!=8.4.0,<9.0.0,>=8.1.0 in /usr/local/lib/python3.10/dist-packages (from langchain-core<0.3,>=0.2.33->langchain-google-genai) (8.5.0)\n",
            "Requirement already satisfied: googleapis-common-protos<2.0.dev0,>=1.56.2 in /usr/local/lib/python3.10/dist-packages (from google-api-core->google-generativeai<0.8.0,>=0.7.0->langchain-google-genai) (1.65.0)\n",
            "Requirement already satisfied: requests<3.0.0.dev0,>=2.18.0 in /usr/local/lib/python3.10/dist-packages (from google-api-core->google-generativeai<0.8.0,>=0.7.0->langchain-google-genai) (2.32.3)\n",
            "Requirement already satisfied: cachetools<6.0,>=2.0.0 in /usr/local/lib/python3.10/dist-packages (from google-auth>=2.15.0->google-generativeai<0.8.0,>=0.7.0->langchain-google-genai) (5.5.0)\n",
            "Requirement already satisfied: pyasn1-modules>=0.2.1 in /usr/local/lib/python3.10/dist-packages (from google-auth>=2.15.0->google-generativeai<0.8.0,>=0.7.0->langchain-google-genai) (0.4.0)\n",
            "Requirement already satisfied: rsa<5,>=3.1.4 in /usr/local/lib/python3.10/dist-packages (from google-auth>=2.15.0->google-generativeai<0.8.0,>=0.7.0->langchain-google-genai) (4.9)\n",
            "Requirement already satisfied: jsonpointer>=1.9 in /usr/local/lib/python3.10/dist-packages (from jsonpatch<2.0,>=1.33->langchain-core<0.3,>=0.2.33->langchain-google-genai) (3.0.0)\n",
            "Requirement already satisfied: httpx<1,>=0.23.0 in /usr/local/lib/python3.10/dist-packages (from langsmith<0.2.0,>=0.1.75->langchain-core<0.3,>=0.2.33->langchain-google-genai) (0.27.2)\n",
            "Requirement already satisfied: orjson<4.0.0,>=3.9.14 in /usr/local/lib/python3.10/dist-packages (from langsmith<0.2.0,>=0.1.75->langchain-core<0.3,>=0.2.33->langchain-google-genai) (3.10.7)\n",
            "Requirement already satisfied: annotated-types>=0.4.0 in /usr/local/lib/python3.10/dist-packages (from pydantic->google-generativeai<0.8.0,>=0.7.0->langchain-google-genai) (0.7.0)\n",
            "Requirement already satisfied: pydantic-core==2.23.2 in /usr/local/lib/python3.10/dist-packages (from pydantic->google-generativeai<0.8.0,>=0.7.0->langchain-google-genai) (2.23.2)\n",
            "Requirement already satisfied: tzdata in /usr/local/lib/python3.10/dist-packages (from pydantic->google-generativeai<0.8.0,>=0.7.0->langchain-google-genai) (2024.1)\n",
            "Requirement already satisfied: httplib2<1.dev0,>=0.19.0 in /usr/local/lib/python3.10/dist-packages (from google-api-python-client->google-generativeai<0.8.0,>=0.7.0->langchain-google-genai) (0.22.0)\n",
            "Requirement already satisfied: google-auth-httplib2<1.0.0,>=0.2.0 in /usr/local/lib/python3.10/dist-packages (from google-api-python-client->google-generativeai<0.8.0,>=0.7.0->langchain-google-genai) (0.2.0)\n",
            "Requirement already satisfied: uritemplate<5,>=3.0.1 in /usr/local/lib/python3.10/dist-packages (from google-api-python-client->google-generativeai<0.8.0,>=0.7.0->langchain-google-genai) (4.1.1)\n",
            "Requirement already satisfied: grpcio<2.0dev,>=1.33.2 in /usr/local/lib/python3.10/dist-packages (from google-api-core[grpc]!=2.0.*,!=2.1.*,!=2.10.*,!=2.2.*,!=2.3.*,!=2.4.*,!=2.5.*,!=2.6.*,!=2.7.*,!=2.8.*,!=2.9.*,<3.0.0dev,>=1.34.1->google-ai-generativelanguage==0.6.6->google-generativeai<0.8.0,>=0.7.0->langchain-google-genai) (1.64.1)\n",
            "Requirement already satisfied: grpcio-status<2.0.dev0,>=1.33.2 in /usr/local/lib/python3.10/dist-packages (from google-api-core[grpc]!=2.0.*,!=2.1.*,!=2.10.*,!=2.2.*,!=2.3.*,!=2.4.*,!=2.5.*,!=2.6.*,!=2.7.*,!=2.8.*,!=2.9.*,<3.0.0dev,>=1.34.1->google-ai-generativelanguage==0.6.6->google-generativeai<0.8.0,>=0.7.0->langchain-google-genai) (1.48.2)\n",
            "Requirement already satisfied: pyparsing!=3.0.0,!=3.0.1,!=3.0.2,!=3.0.3,<4,>=2.4.2 in /usr/local/lib/python3.10/dist-packages (from httplib2<1.dev0,>=0.19.0->google-api-python-client->google-generativeai<0.8.0,>=0.7.0->langchain-google-genai) (3.1.4)\n",
            "Requirement already satisfied: anyio in /usr/local/lib/python3.10/dist-packages (from httpx<1,>=0.23.0->langsmith<0.2.0,>=0.1.75->langchain-core<0.3,>=0.2.33->langchain-google-genai) (3.7.1)\n",
            "Requirement already satisfied: certifi in /usr/local/lib/python3.10/dist-packages (from httpx<1,>=0.23.0->langsmith<0.2.0,>=0.1.75->langchain-core<0.3,>=0.2.33->langchain-google-genai) (2024.8.30)\n",
            "Requirement already satisfied: httpcore==1.* in /usr/local/lib/python3.10/dist-packages (from httpx<1,>=0.23.0->langsmith<0.2.0,>=0.1.75->langchain-core<0.3,>=0.2.33->langchain-google-genai) (1.0.5)\n",
            "Requirement already satisfied: idna in /usr/local/lib/python3.10/dist-packages (from httpx<1,>=0.23.0->langsmith<0.2.0,>=0.1.75->langchain-core<0.3,>=0.2.33->langchain-google-genai) (3.8)\n",
            "Requirement already satisfied: sniffio in /usr/local/lib/python3.10/dist-packages (from httpx<1,>=0.23.0->langsmith<0.2.0,>=0.1.75->langchain-core<0.3,>=0.2.33->langchain-google-genai) (1.3.1)\n",
            "Requirement already satisfied: h11<0.15,>=0.13 in /usr/local/lib/python3.10/dist-packages (from httpcore==1.*->httpx<1,>=0.23.0->langsmith<0.2.0,>=0.1.75->langchain-core<0.3,>=0.2.33->langchain-google-genai) (0.14.0)\n",
            "Requirement already satisfied: pyasn1<0.7.0,>=0.4.6 in /usr/local/lib/python3.10/dist-packages (from pyasn1-modules>=0.2.1->google-auth>=2.15.0->google-generativeai<0.8.0,>=0.7.0->langchain-google-genai) (0.6.0)\n",
            "Requirement already satisfied: charset-normalizer<4,>=2 in /usr/local/lib/python3.10/dist-packages (from requests<3.0.0.dev0,>=2.18.0->google-api-core->google-generativeai<0.8.0,>=0.7.0->langchain-google-genai) (3.3.2)\n",
            "Requirement already satisfied: urllib3<3,>=1.21.1 in /usr/local/lib/python3.10/dist-packages (from requests<3.0.0.dev0,>=2.18.0->google-api-core->google-generativeai<0.8.0,>=0.7.0->langchain-google-genai) (2.0.7)\n",
            "Requirement already satisfied: exceptiongroup in /usr/local/lib/python3.10/dist-packages (from anyio->httpx<1,>=0.23.0->langsmith<0.2.0,>=0.1.75->langchain-core<0.3,>=0.2.33->langchain-google-genai) (1.2.2)\n",
            "Using cached langchain_core-0.2.38-py3-none-any.whl (396 kB)\n",
            "Installing collected packages: langchain-core\n",
            "  Attempting uninstall: langchain-core\n",
            "    Found existing installation: langchain-core 0.1.52\n",
            "    Uninstalling langchain-core-0.1.52:\n",
            "      Successfully uninstalled langchain-core-0.1.52\n",
            "\u001b[31mERROR: pip's dependency resolver does not currently take into account all the packages that are installed. This behaviour is the source of the following dependency conflicts.\n",
            "langchain 0.1.8 requires langchain-core<0.2,>=0.1.24, but you have langchain-core 0.2.38 which is incompatible.\n",
            "langchain-community 0.0.21 requires langchain-core<0.2,>=0.1.24, but you have langchain-core 0.2.38 which is incompatible.\n",
            "langchain-experimental 0.0.53 requires langchain-core<0.2.0,>=0.1.27, but you have langchain-core 0.2.38 which is incompatible.\n",
            "langchain-openai 0.0.6 requires langchain-core<0.2,>=0.1.16, but you have langchain-core 0.2.38 which is incompatible.\n",
            "langchain-text-splitters 0.0.1 requires langchain-core<0.2.0,>=0.1.28, but you have langchain-core 0.2.38 which is incompatible.\u001b[0m\u001b[31m\n",
            "\u001b[0mSuccessfully installed langchain-core-0.2.38\n",
            "Collecting yt-dlp\n",
            "  Using cached yt_dlp-2024.8.6-py3-none-any.whl.metadata (170 kB)\n",
            "Collecting youtube-search\n",
            "  Using cached youtube_search-2.1.2-py3-none-any.whl.metadata (1.2 kB)\n",
            "Requirement already satisfied: brotli in /usr/local/lib/python3.10/dist-packages (from yt-dlp) (1.1.0)\n",
            "Requirement already satisfied: certifi in /usr/local/lib/python3.10/dist-packages (from yt-dlp) (2024.8.30)\n",
            "Requirement already satisfied: mutagen in /usr/local/lib/python3.10/dist-packages (from yt-dlp) (1.47.0)\n",
            "Requirement already satisfied: pycryptodomex in /usr/local/lib/python3.10/dist-packages (from yt-dlp) (3.20.0)\n",
            "Requirement already satisfied: requests<3,>=2.32.2 in /usr/local/lib/python3.10/dist-packages (from yt-dlp) (2.32.3)\n",
            "Requirement already satisfied: urllib3<3,>=1.26.17 in /usr/local/lib/python3.10/dist-packages (from yt-dlp) (2.0.7)\n",
            "Requirement already satisfied: websockets>=12.0 in /usr/local/lib/python3.10/dist-packages (from yt-dlp) (12.0)\n",
            "Requirement already satisfied: charset-normalizer<4,>=2 in /usr/local/lib/python3.10/dist-packages (from requests<3,>=2.32.2->yt-dlp) (3.3.2)\n",
            "Requirement already satisfied: idna<4,>=2.5 in /usr/local/lib/python3.10/dist-packages (from requests<3,>=2.32.2->yt-dlp) (3.8)\n",
            "Using cached yt_dlp-2024.8.6-py3-none-any.whl (3.1 MB)\n",
            "Using cached youtube_search-2.1.2-py3-none-any.whl (3.4 kB)\n",
            "Installing collected packages: yt-dlp, youtube-search\n",
            "Successfully installed youtube-search-2.1.2 yt-dlp-2024.8.6\n"
          ]
        }
      ],
      "source": [
        "# Install packages\n",
        "\n",
        "!pip install --upgrade openagi\n",
        "!pip install --upgrade tavily-python\n",
        "!pip install --upgrade langchain-google-genai\n",
        "!pip install --upgrade yt-dlp youtube-search"
      ]
    },
    {
      "cell_type": "code",
      "execution_count": null,
      "metadata": {
        "id": "27x4E05buixH"
      },
      "outputs": [],
      "source": [
        "# Import the required packages\n",
        "\n",
        "from openagi.actions.files import WriteFileAction, ReadFileAction\n",
        "from openagi.actions.tools.ddg_search import DuckDuckGoNewsSearch\n",
        "from openagi.actions.tools.webloader import WebBaseContextTool\n",
        "from openagi.agent import Admin\n",
        "from openagi.memory import Memory\n",
        "from openagi.planner.task_decomposer import TaskPlanner\n",
        "from openagi.worker import Worker\n",
        "from rich.console import Console\n",
        "from rich.markdown import Markdown\n",
        "from openagi.llms.gemini import GeminiModel\n",
        "\n",
        "from pydantic import Field\n",
        "from openagi.actions.base import BaseAction"
      ]
    },
    {
      "cell_type": "markdown",
      "metadata": {
        "id": "_JxhDfuBnkS6"
      },
      "source": [
        "## LLM"
      ]
    },
    {
      "cell_type": "code",
      "execution_count": null,
      "metadata": {
        "id": "ZS_V4fmcnnTD"
      },
      "outputs": [],
      "source": [
        "# Configure the LLM\n",
        "os.environ['GOOGLE_API_KEY'] = GOOGLE_API_KEY\n",
        "os.environ['Gemini_MODEL'] = 'gemini-1.5-flash'\n",
        "os.environ['Gemini_TEMP'] = '0.8'\n",
        "\n",
        "config = GeminiModel.load_from_env_config()\n",
        "llm_agent = GeminiModel(config=config)"
      ]
    },
    {
      "cell_type": "markdown",
      "metadata": {
        "id": "VNNRtsu-zBly"
      },
      "source": [
        "## Use Case in Spanish: Legislative Agent Spanish Version\n",
        "\n",
        "This example shows how to create an OpenAGI agent with two workers (Search Specialist, Legislative Technical Specialist) with their corresponding tools, to autonomously research, write and review a Bill publication."
      ]
    },
    {
      "cell_type": "markdown",
      "metadata": {
        "id": "cC7tcvCe8mxZ"
      },
      "source": [
        "### Worker Agents"
      ]
    },
    {
      "cell_type": "code",
      "execution_count": null,
      "metadata": {
        "id": "MK_WwMnt8fqg"
      },
      "outputs": [],
      "source": [
        "# Worker Agents\n",
        "\n",
        "# Initialize the researcher\n",
        "researcher = Worker(\n",
        "    role=\"Especialista de busqueda\",\n",
        "    instructions=\"Busque información de vanguardia sobre seguridad informatica. Trabajas en un grupo de expertos en seguridad informatica. Tienes la habilidad especial para analizar datos complejos y presentar información útil. Retorna la informacion en un resumen de una carilla en formato archivo de texto.\",\n",
        "    actions=[DuckDuckGoNewsSearch,\n",
        "             WebBaseContextTool,\n",
        "             WriteFileAction\n",
        "    ], max_iterations=4\n",
        ")\n",
        "\n",
        "# Initialize the reviewer\n",
        "reviewer = Worker(\n",
        "    role=\"Especialista en Técnica Legislativa\",\n",
        "    instructions=\"Cree un blog en formato de Proyecto de Ley respetando la tecnica legislativa vigente utilizando la información investigada. Transforme conceptos complejos en contenido de legislacion convincente. Revise el contenido del blog para determinar su claridad, precisión gramatical y alineación con valores eticos y morales de la sociedad actual, refinelo para garantizar la perfección. Es un especialista meticuloso y atento a los detalles, que garantiza que cada contenido sea claro, y gramaticalmente perfecto. Retorna el blog creado y editado en formato archivo de texto.\",\n",
        "        actions=[ReadFileAction,\n",
        "                 DuckDuckGoNewsSearch,\n",
        "                 WebBaseContextTool,\n",
        "                 WriteFileAction,\n",
        "    ], max_iterations=4\n",
        ")"
      ]
    },
    {
      "cell_type": "markdown",
      "metadata": {
        "id": "CQijsoRoqkEb"
      },
      "source": [
        "### Admin"
      ]
    },
    {
      "cell_type": "code",
      "execution_count": null,
      "metadata": {
        "id": "Q4u73xTaqYWP"
      },
      "outputs": [],
      "source": [
        "# Declare the Admin object\n",
        "admin = Admin(\n",
        "    planner=TaskPlanner(human_intervene=False),\n",
        "    memory=Memory(),\n",
        "    llm=llm_agent,\n",
        ")\n",
        "# Assign sub-tasks to workers\n",
        "admin.assign_workers([researcher, reviewer])"
      ]
    },
    {
      "cell_type": "markdown",
      "metadata": {
        "id": "CxSM09Chq6d6"
      },
      "source": [
        "### Run the Admin"
      ]
    },
    {
      "cell_type": "code",
      "execution_count": null,
      "metadata": {
        "colab": {
          "base_uri": "https://localhost:8080/"
        },
        "id": "-bk2YPUYq554",
        "outputId": "6b0711be-30dc-423d-e3df-a33b3793bad2"
      },
      "outputs": [
        {
          "name": "stdout",
          "output_type": "stream",
          "text": [
            "\n",
            "\n",
            "Tasks: [{'task_name': 'Buscar información sobre seguridad informática en 2024', 'description': 'Utiliza DuckDuckGo para buscar información sobre los últimos avances en seguridad informática en 2024. Enfócate en tendencias clave, tecnologías innovadoras y posibles impactos en la sociedad. Busca información que sea relevante para una audiencia conocedora de tecnología y legislación. Regresa el resumen de la información como un archivo de texto.', 'worker_id': 'c2c81371dc4e4b89898f5c6759533b2a'}, {'task_name': 'Crear el contenido del blog', 'description': 'Lee el archivo de texto con la información sobre seguridad informática. Utiliza esta información para crear un blog en formato de Proyecto de Ley (máximo 20 artículos). Asegúrate de que el contenido sea claro, preciso y fácil de entender para una audiencia conocedora de tecnología y legislación. El blog debe destacar los avances más importantes en seguridad informática en 2024. Regresa el blog como un archivo de texto.', 'worker_id': 'bd679b9e2ff54177909ccc66ea7d1a70'}]\n",
            "\n",
            "\n"
          ]
        },
        {
          "name": "stderr",
          "output_type": "stream",
          "text": [
            "WARNING:root:No Tasks to summarize.\n",
            "ERROR:root:JSON not extracted. Trying again.\n",
            "Traceback (most recent call last):\n",
            "  File \"/usr/local/lib/python3.10/dist-packages/openagi/utils/extraction.py\", line 70, in get_last_json\n",
            "    return json.loads(last_json)\n",
            "  File \"/usr/lib/python3.10/json/__init__.py\", line 346, in loads\n",
            "    return _default_decoder.decode(s)\n",
            "  File \"/usr/lib/python3.10/json/decoder.py\", line 337, in decode\n",
            "    obj, end = self.raw_decode(s, idx=_w(s, 0).end())\n",
            "  File \"/usr/lib/python3.10/json/decoder.py\", line 355, in raw_decode\n",
            "    raise JSONDecodeError(\"Expecting value\", s, err.value) from None\n",
            "json.decoder.JSONDecodeError: Expecting value: line 1 column 325 (char 324)\n",
            "WARNING:chromadb.segment.impl.vector.local_persistent_hnsw:Number of requested results 10 is greater than number of elements in index 2, updating n_results = 2\n",
            "WARNING:root:No Tasks to summarize.\n"
          ]
        }
      ],
      "source": [
        "# Run the admin object\n",
        "response_agent = admin.run(\n",
        "    query=\"Escribe una publicación de blog en formato de Proyecto de Ley (Máximo 20 articulos), sobre Seguridad Informática. Si es necesario puede escribir archivos en formato texto.\",\n",
        "    description=\"Realice un análisis integral de los últimos avances en Seguridad Informática en 2024. Identifique tendencias clave, tecnologías innovadoras y posibles impactos en la sociedad. Utilizando los conocimientos proporcionados, desarrolle una publicacion de blog que respete el formato solicitado y que destaque los avances más importantes. Tu publicación debe dirigirse a una audiencia conocedora de Tecnología y Legislación. Retorne la publicación de blog en formato archivo de texto.\",\n",
        ")"
      ]
    },
    {
      "cell_type": "markdown",
      "metadata": {
        "id": "GQx1kKKSrEFU"
      },
      "source": [
        "### Output"
      ]
    },
    {
      "cell_type": "code",
      "execution_count": null,
      "metadata": {
        "colab": {
          "base_uri": "https://localhost:8080/",
          "height": 1000
        },
        "id": "o0DdYF-I9z8l",
        "outputId": "4ba18e15-3a80-4e7a-9030-d92f3febb4af"
      },
      "outputs": [
        {
          "name": "stdout",
          "output_type": "stream",
          "text": [
            "----------------------------------------------------------------------------------------------------\n"
          ]
        },
        {
          "data": {
            "text/html": [
              "<pre style=\"white-space:pre;overflow-x:auto;line-height:normal;font-family:Menlo,'DejaVu Sans Mono',consolas,'Courier New',monospace\">\n",
              "                              <span style=\"font-weight: bold; text-decoration: underline\">Proyecto de Ley: Avances en Seguridad Informática 2024</span>                               \n",
              "\n",
              "<span style=\"font-weight: bold\">Artículo 1: Objeto</span>                                                                                                 \n",
              "\n",
              "El presente Proyecto de Ley tiene como objeto regular los avances más importantes en seguridad informática en el   \n",
              "año 2024, con el fin de garantizar la protección de datos, sistemas y redes, y promover la ciberseguridad en la    \n",
              "sociedad.                                                                                                          \n",
              "\n",
              "<span style=\"font-weight: bold\">Artículo 2: Alcance</span>                                                                                                \n",
              "\n",
              "Este Proyecto de Ley se aplicará a todos los sectores y actores que se involucren en el desarrollo, implementación \n",
              "y uso de tecnologías de la información y las comunicaciones (TIC) en el territorio nacional.                       \n",
              "\n",
              "<span style=\"font-weight: bold\">Artículo 3: Definiciones</span>                                                                                           \n",
              "\n",
              "Para los efectos de esta Ley, se entenderá por:                                                                    \n",
              "\n",
              "<span style=\"color: #808000; text-decoration-color: #808000; font-weight: bold\"> • </span><span style=\"font-weight: bold\">Seguridad Informática:</span> El conjunto de medidas técnicas y organizativas destinadas a proteger los sistemas de    \n",
              "<span style=\"color: #808000; text-decoration-color: #808000; font-weight: bold\">   </span>información, los datos y las redes de las amenazas cibernéticas.                                                \n",
              "<span style=\"color: #808000; text-decoration-color: #808000; font-weight: bold\"> • </span><span style=\"font-weight: bold\">Amenaza Cibernética:</span> Cualquier acción o evento que pueda comprometer la seguridad de los sistemas de            \n",
              "<span style=\"color: #808000; text-decoration-color: #808000; font-weight: bold\">   </span>información, los datos o las redes.                                                                             \n",
              "<span style=\"color: #808000; text-decoration-color: #808000; font-weight: bold\"> • </span><span style=\"font-weight: bold\">Vulnerabilidad:</span> Debilidad en un sistema de información que puede ser explotada por una amenaza cibernética.     \n",
              "<span style=\"color: #808000; text-decoration-color: #808000; font-weight: bold\"> • </span><span style=\"font-weight: bold\">Ciberseguridad:</span> El proceso de proteger los sistemas de información, los datos y las redes de las amenazas       \n",
              "<span style=\"color: #808000; text-decoration-color: #808000; font-weight: bold\">   </span>cibernéticas, mediante la implementación de medidas preventivas, detectivas y correctivas.                      \n",
              "\n",
              "<span style=\"font-weight: bold\">Artículo 4: Avances en Seguridad Informática 2024</span>                                                                  \n",
              "\n",
              "<span style=\"font-weight: bold\">4.1. Aumento de la concienciación sobre la ciberseguridad:</span>                                                         \n",
              "\n",
              "En 2024, se ha evidenciado un aumento significativo en la concienciación sobre la ciberseguridad en la sociedad.   \n",
              "Organizaciones y gobiernos están impulsando campañas de educación y sensibilización para promover prácticas seguras\n",
              "de navegación en internet y el uso responsable de las tecnologías.                                                 \n",
              "\n",
              "<span style=\"font-weight: bold\">4.2. Avances en la detección y prevención de ataques:</span>                                                              \n",
              "\n",
              "Se han implementado nuevas tecnologías y técnicas de detección y prevención de ataques, como la inteligencia       \n",
              "artificial (IA), el aprendizaje automático (ML) y el análisis de comportamiento. Estas herramientas permiten       \n",
              "identificar patrones sospechosos y responder a las amenazas de forma más eficiente.                                \n",
              "\n",
              "<span style=\"font-weight: bold\">4.3. Fortalecimiento de la infraestructura de seguridad:</span>                                                           \n",
              "\n",
              "Se ha observado un mayor enfoque en el fortalecimiento de la infraestructura de seguridad de las organizaciones. Se\n",
              "están implementando medidas como la autenticación multifactor, la encriptación de datos y los sistemas de detección\n",
              "de intrusiones (IDS) para proteger los sistemas y las redes.                                                       \n",
              "\n",
              "<span style=\"font-weight: bold\">4.4. Avances en la protección de datos personales:</span>                                                                 \n",
              "\n",
              "En 2024, se han promulgado nuevas regulaciones para proteger los datos personales, como el Reglamento General de   \n",
              "Protección de Datos (GDPR) en la Unión Europea. Estas leyes obligan a las organizaciones a implementar medidas de  \n",
              "seguridad para proteger la información de los usuarios.                                                            \n",
              "\n",
              "<span style=\"font-weight: bold\">4.5. Crecimiento del mercado de la ciberseguridad:</span>                                                                 \n",
              "\n",
              "El mercado global de la ciberseguridad ha experimentado un crecimiento significativo en 2024. Este crecimiento se  \n",
              "debe a la creciente necesidad de proteger los sistemas y los datos de las amenazas cibernéticas.                   \n",
              "\n",
              "<span style=\"font-weight: bold\">Artículo 5:  Impacto en la Sociedad</span>                                                                                \n",
              "\n",
              "Los avances en seguridad informática tienen un impacto significativo en la sociedad, mejorando la confianza en las \n",
              "tecnologías digitales y protegiendo los derechos de los ciudadanos. Estos avances también contribuyen a la         \n",
              "seguridad nacional y al desarrollo económico.                                                                      \n",
              "\n",
              "<span style=\"font-weight: bold\">Artículo 6:  Recomendaciones</span>                                                                                       \n",
              "\n",
              "<span style=\"font-weight: bold\">6.1. Promover la educación y la concienciación sobre la ciberseguridad:</span>                                            \n",
              "\n",
              "Se recomienda que las instituciones educativas y los gobiernos implementen programas de educación y concienciación \n",
              "sobre la ciberseguridad para todos los ciudadanos.                                                                 \n",
              "\n",
              "<span style=\"font-weight: bold\">6.2. Fomentar la innovación en tecnologías de ciberseguridad:</span>                                                      \n",
              "\n",
              "Es importante que se apoye la investigación y el desarrollo de nuevas tecnologías de ciberseguridad, para mejorar  \n",
              "la protección de los sistemas y los datos.                                                                         \n",
              "\n",
              "<span style=\"font-weight: bold\">6.3. Fortalecer la colaboración entre los actores públicos y privados:</span>                                             \n",
              "\n",
              "Se recomienda que se fomente la colaboración entre las instituciones públicas y las empresas privadas para         \n",
              "compartir información sobre las amenazas cibernéticas y para desarrollar soluciones conjuntas.                     \n",
              "\n",
              "<span style=\"font-weight: bold\">Artículo 7:  Vigencia</span>                                                                                              \n",
              "\n",
              "El presente Proyecto de Ley entrará en vigor a partir de su publicación en el Diario Oficial.                      \n",
              "\n",
              "<span style=\"font-weight: bold\">Artículo 8:  Derogación</span>                                                                                            \n",
              "\n",
              "Se derogan todas las disposiciones legales que se opongan a lo dispuesto en este Proyecto de Ley.                  \n",
              "\n",
              "<span style=\"font-weight: bold\">Nota:</span> Este Proyecto de Ley se presenta como un ejemplo de cómo se puede utilizar la información sobre seguridad    \n",
              "informática para crear un blog en formato de Proyecto de Ley. El contenido puede ser adaptado a las necesidades    \n",
              "específicas de cada país o región.                                                                                 \n",
              "\n",
              "<span style=\"font-weight: bold\">Referencias:</span>                                                                                                       \n",
              "\n",
              "<span style=\"color: #808000; text-decoration-color: #808000; font-weight: bold\"> • </span><a href=\"https://www.automation.com/en-us/articles/august-2024/cybersecurity-risks-legacy-ot-systems\" target=\"_blank\"><span style=\"color: #000080; text-decoration-color: #000080; text-decoration: underline\">Artículo sobre ciberseguridad en sistemas legacy</span></a>                                                                \n",
              "<span style=\"color: #808000; text-decoration-color: #808000; font-weight: bold\"> • </span><a href=\"https://www.msn.com/en-in/news/world/sebi-releases-cybersecurity-framework-all-registered-entities-to-have-security-operation-centres-by-april-1-2025/ar-AA1pazMx\" target=\"_blank\"><span style=\"color: #000080; text-decoration-color: #000080; text-decoration: underline\">Marco de ciberseguridad de SEBI</span></a>                                                                                 \n",
              "<span style=\"color: #808000; text-decoration-color: #808000; font-weight: bold\"> • </span><a href=\"https://www.yenisafak.com/en/news/building-a-digital-fortress-turkiyes-cybersecurity-advancements-3689600\" target=\"_blank\"><span style=\"color: #000080; text-decoration-color: #000080; text-decoration: underline\">Avances en ciberseguridad en Turquía</span></a>                                                                            \n",
              "<span style=\"color: #808000; text-decoration-color: #808000; font-weight: bold\"> • </span><a href=\"https://www.msn.com/en-us/money/news/fortinet-ftnt-becomes-cybersecurity-partner-for-juventus/ar-AA1pc0Ay\" target=\"_blank\"><span style=\"color: #000080; text-decoration-color: #000080; text-decoration: underline\">Fortinet como socio de ciberseguridad de Juventus</span></a>                                                               \n",
              "<span style=\"color: #808000; text-decoration-color: #808000; font-weight: bold\"> • </span><a href=\"https://businessday.ng/opinion/article/empowering-the-global-south-the-imperative-of-ai-and-cybersecurity-education-in-transforming-education-systems/\" target=\"_blank\"><span style=\"color: #000080; text-decoration-color: #000080; text-decoration: underline\">Importancia de la educación en IA y ciberseguridad</span></a>                                                              \n",
              "<span style=\"color: #808000; text-decoration-color: #808000; font-weight: bold\"> • </span><a href=\"https://menafn.com/1108595007/Infocomm-India-2024-Summit-To-Present-Latest-In-AI-AVVR-Cybersecurity-Display-Technology-Pro-AV-And-More\" target=\"_blank\"><span style=\"color: #000080; text-decoration-color: #000080; text-decoration: underline\">Cumbre Infocomm India 2024</span></a>                                                                                      \n",
              "<span style=\"color: #808000; text-decoration-color: #808000; font-weight: bold\"> • </span><a href=\"https://www.techdigest.tv/2024/08/uk-slips-to-5th-in-global-cybersecurity-rankings-claims-report.html\" target=\"_blank\"><span style=\"color: #000080; text-decoration-color: #000080; text-decoration: underline\">Clasificación de ciberseguridad del Reino Unido</span></a>                                                                 \n",
              "<span style=\"color: #808000; text-decoration-color: #808000; font-weight: bold\"> • </span><a href=\"https://menafn.com/1108588984/Intersec-2025-To-Address-UAEs-Unified-Approach-To-Cybersecurity\" target=\"_blank\"><span style=\"color: #000080; text-decoration-color: #000080; text-decoration: underline\">Intersec 2025 en los Emiratos Árabes Unidos</span></a>                                                                     \n",
              "<span style=\"color: #808000; text-decoration-color: #808000; font-weight: bold\"> • </span><a href=\"https://e.vnexpress.net/news/business/vincss-partners-with-st-engineering-info-security-to-enhance-cybersecurity-capabilities-in-asia-pacific-4784539.html\" target=\"_blank\"><span style=\"color: #000080; text-decoration-color: #000080; text-decoration: underline\">VinCSS y ST Engineering Info-Security</span></a>                                                                           \n",
              "<span style=\"color: #808000; text-decoration-color: #808000; font-weight: bold\"> • </span><a href=\"https://www.msn.com/en-ph/news/other/cyberdsa-2024-the-premier-cybersecurity-event-returns-to-kuala-lumpur/ar-AA1ofgn5\" target=\"_blank\"><span style=\"color: #000080; text-decoration-color: #000080; text-decoration: underline\">CyberDSA 2024 en Kuala Lumpur</span></a>                                                                                   \n",
              "</pre>\n"
            ],
            "text/plain": [
              "\n",
              "                              \u001b[1;4mProyecto de Ley: Avances en Seguridad Informática 2024\u001b[0m                               \n",
              "\n",
              "\u001b[1mArtículo 1: Objeto\u001b[0m                                                                                                 \n",
              "\n",
              "El presente Proyecto de Ley tiene como objeto regular los avances más importantes en seguridad informática en el   \n",
              "año 2024, con el fin de garantizar la protección de datos, sistemas y redes, y promover la ciberseguridad en la    \n",
              "sociedad.                                                                                                          \n",
              "\n",
              "\u001b[1mArtículo 2: Alcance\u001b[0m                                                                                                \n",
              "\n",
              "Este Proyecto de Ley se aplicará a todos los sectores y actores que se involucren en el desarrollo, implementación \n",
              "y uso de tecnologías de la información y las comunicaciones (TIC) en el territorio nacional.                       \n",
              "\n",
              "\u001b[1mArtículo 3: Definiciones\u001b[0m                                                                                           \n",
              "\n",
              "Para los efectos de esta Ley, se entenderá por:                                                                    \n",
              "\n",
              "\u001b[1;33m • \u001b[0m\u001b[1mSeguridad Informática:\u001b[0m El conjunto de medidas técnicas y organizativas destinadas a proteger los sistemas de    \n",
              "\u001b[1;33m   \u001b[0minformación, los datos y las redes de las amenazas cibernéticas.                                                \n",
              "\u001b[1;33m • \u001b[0m\u001b[1mAmenaza Cibernética:\u001b[0m Cualquier acción o evento que pueda comprometer la seguridad de los sistemas de            \n",
              "\u001b[1;33m   \u001b[0minformación, los datos o las redes.                                                                             \n",
              "\u001b[1;33m • \u001b[0m\u001b[1mVulnerabilidad:\u001b[0m Debilidad en un sistema de información que puede ser explotada por una amenaza cibernética.     \n",
              "\u001b[1;33m • \u001b[0m\u001b[1mCiberseguridad:\u001b[0m El proceso de proteger los sistemas de información, los datos y las redes de las amenazas       \n",
              "\u001b[1;33m   \u001b[0mcibernéticas, mediante la implementación de medidas preventivas, detectivas y correctivas.                      \n",
              "\n",
              "\u001b[1mArtículo 4: Avances en Seguridad Informática 2024\u001b[0m                                                                  \n",
              "\n",
              "\u001b[1m4.1. Aumento de la concienciación sobre la ciberseguridad:\u001b[0m                                                         \n",
              "\n",
              "En 2024, se ha evidenciado un aumento significativo en la concienciación sobre la ciberseguridad en la sociedad.   \n",
              "Organizaciones y gobiernos están impulsando campañas de educación y sensibilización para promover prácticas seguras\n",
              "de navegación en internet y el uso responsable de las tecnologías.                                                 \n",
              "\n",
              "\u001b[1m4.2. Avances en la detección y prevención de ataques:\u001b[0m                                                              \n",
              "\n",
              "Se han implementado nuevas tecnologías y técnicas de detección y prevención de ataques, como la inteligencia       \n",
              "artificial (IA), el aprendizaje automático (ML) y el análisis de comportamiento. Estas herramientas permiten       \n",
              "identificar patrones sospechosos y responder a las amenazas de forma más eficiente.                                \n",
              "\n",
              "\u001b[1m4.3. Fortalecimiento de la infraestructura de seguridad:\u001b[0m                                                           \n",
              "\n",
              "Se ha observado un mayor enfoque en el fortalecimiento de la infraestructura de seguridad de las organizaciones. Se\n",
              "están implementando medidas como la autenticación multifactor, la encriptación de datos y los sistemas de detección\n",
              "de intrusiones (IDS) para proteger los sistemas y las redes.                                                       \n",
              "\n",
              "\u001b[1m4.4. Avances en la protección de datos personales:\u001b[0m                                                                 \n",
              "\n",
              "En 2024, se han promulgado nuevas regulaciones para proteger los datos personales, como el Reglamento General de   \n",
              "Protección de Datos (GDPR) en la Unión Europea. Estas leyes obligan a las organizaciones a implementar medidas de  \n",
              "seguridad para proteger la información de los usuarios.                                                            \n",
              "\n",
              "\u001b[1m4.5. Crecimiento del mercado de la ciberseguridad:\u001b[0m                                                                 \n",
              "\n",
              "El mercado global de la ciberseguridad ha experimentado un crecimiento significativo en 2024. Este crecimiento se  \n",
              "debe a la creciente necesidad de proteger los sistemas y los datos de las amenazas cibernéticas.                   \n",
              "\n",
              "\u001b[1mArtículo 5:  Impacto en la Sociedad\u001b[0m                                                                                \n",
              "\n",
              "Los avances en seguridad informática tienen un impacto significativo en la sociedad, mejorando la confianza en las \n",
              "tecnologías digitales y protegiendo los derechos de los ciudadanos. Estos avances también contribuyen a la         \n",
              "seguridad nacional y al desarrollo económico.                                                                      \n",
              "\n",
              "\u001b[1mArtículo 6:  Recomendaciones\u001b[0m                                                                                       \n",
              "\n",
              "\u001b[1m6.1. Promover la educación y la concienciación sobre la ciberseguridad:\u001b[0m                                            \n",
              "\n",
              "Se recomienda que las instituciones educativas y los gobiernos implementen programas de educación y concienciación \n",
              "sobre la ciberseguridad para todos los ciudadanos.                                                                 \n",
              "\n",
              "\u001b[1m6.2. Fomentar la innovación en tecnologías de ciberseguridad:\u001b[0m                                                      \n",
              "\n",
              "Es importante que se apoye la investigación y el desarrollo de nuevas tecnologías de ciberseguridad, para mejorar  \n",
              "la protección de los sistemas y los datos.                                                                         \n",
              "\n",
              "\u001b[1m6.3. Fortalecer la colaboración entre los actores públicos y privados:\u001b[0m                                             \n",
              "\n",
              "Se recomienda que se fomente la colaboración entre las instituciones públicas y las empresas privadas para         \n",
              "compartir información sobre las amenazas cibernéticas y para desarrollar soluciones conjuntas.                     \n",
              "\n",
              "\u001b[1mArtículo 7:  Vigencia\u001b[0m                                                                                              \n",
              "\n",
              "El presente Proyecto de Ley entrará en vigor a partir de su publicación en el Diario Oficial.                      \n",
              "\n",
              "\u001b[1mArtículo 8:  Derogación\u001b[0m                                                                                            \n",
              "\n",
              "Se derogan todas las disposiciones legales que se opongan a lo dispuesto en este Proyecto de Ley.                  \n",
              "\n",
              "\u001b[1mNota:\u001b[0m Este Proyecto de Ley se presenta como un ejemplo de cómo se puede utilizar la información sobre seguridad    \n",
              "informática para crear un blog en formato de Proyecto de Ley. El contenido puede ser adaptado a las necesidades    \n",
              "específicas de cada país o región.                                                                                 \n",
              "\n",
              "\u001b[1mReferencias:\u001b[0m                                                                                                       \n",
              "\n",
              "\u001b[1;33m • \u001b[0m\u001b]8;id=883607;https://www.automation.com/en-us/articles/august-2024/cybersecurity-risks-legacy-ot-systems\u001b\\\u001b[4;34mArtículo sobre ciberseguridad en sistemas legacy\u001b[0m\u001b]8;;\u001b\\                                                                \n",
              "\u001b[1;33m • \u001b[0m\u001b]8;id=519344;https://www.msn.com/en-in/news/world/sebi-releases-cybersecurity-framework-all-registered-entities-to-have-security-operation-centres-by-april-1-2025/ar-AA1pazMx\u001b\\\u001b[4;34mMarco de ciberseguridad de SEBI\u001b[0m\u001b]8;;\u001b\\                                                                                 \n",
              "\u001b[1;33m • \u001b[0m\u001b]8;id=794581;https://www.yenisafak.com/en/news/building-a-digital-fortress-turkiyes-cybersecurity-advancements-3689600\u001b\\\u001b[4;34mAvances en ciberseguridad en Turquía\u001b[0m\u001b]8;;\u001b\\                                                                            \n",
              "\u001b[1;33m • \u001b[0m\u001b]8;id=662568;https://www.msn.com/en-us/money/news/fortinet-ftnt-becomes-cybersecurity-partner-for-juventus/ar-AA1pc0Ay\u001b\\\u001b[4;34mFortinet como socio de ciberseguridad de Juventus\u001b[0m\u001b]8;;\u001b\\                                                               \n",
              "\u001b[1;33m • \u001b[0m\u001b]8;id=399648;https://businessday.ng/opinion/article/empowering-the-global-south-the-imperative-of-ai-and-cybersecurity-education-in-transforming-education-systems/\u001b\\\u001b[4;34mImportancia de la educación en IA y ciberseguridad\u001b[0m\u001b]8;;\u001b\\                                                              \n",
              "\u001b[1;33m • \u001b[0m\u001b]8;id=202974;https://menafn.com/1108595007/Infocomm-India-2024-Summit-To-Present-Latest-In-AI-AVVR-Cybersecurity-Display-Technology-Pro-AV-And-More\u001b\\\u001b[4;34mCumbre Infocomm India 2024\u001b[0m\u001b]8;;\u001b\\                                                                                      \n",
              "\u001b[1;33m • \u001b[0m\u001b]8;id=733564;https://www.techdigest.tv/2024/08/uk-slips-to-5th-in-global-cybersecurity-rankings-claims-report.html\u001b\\\u001b[4;34mClasificación de ciberseguridad del Reino Unido\u001b[0m\u001b]8;;\u001b\\                                                                 \n",
              "\u001b[1;33m • \u001b[0m\u001b]8;id=246585;https://menafn.com/1108588984/Intersec-2025-To-Address-UAEs-Unified-Approach-To-Cybersecurity\u001b\\\u001b[4;34mIntersec 2025 en los Emiratos Árabes Unidos\u001b[0m\u001b]8;;\u001b\\                                                                     \n",
              "\u001b[1;33m • \u001b[0m\u001b]8;id=108803;https://e.vnexpress.net/news/business/vincss-partners-with-st-engineering-info-security-to-enhance-cybersecurity-capabilities-in-asia-pacific-4784539.html\u001b\\\u001b[4;34mVinCSS y ST Engineering Info-Security\u001b[0m\u001b]8;;\u001b\\                                                                           \n",
              "\u001b[1;33m • \u001b[0m\u001b]8;id=56833;https://www.msn.com/en-ph/news/other/cyberdsa-2024-the-premier-cybersecurity-event-returns-to-kuala-lumpur/ar-AA1ofgn5\u001b\\\u001b[4;34mCyberDSA 2024 en Kuala Lumpur\u001b[0m\u001b]8;;\u001b\\                                                                                   \n"
            ]
          },
          "metadata": {},
          "output_type": "display_data"
        }
      ],
      "source": [
        "# Output display\n",
        "print(\"-\" * 100)  # Separator\n",
        "Console().print(Markdown(response_agent))"
      ]
    },
    {
      "cell_type": "markdown",
      "source": [
        "## Use Case in English: AI Teacher Agent\n",
        "\n",
        "This example shows how to create an OpenAGI agent with three workers (Specialist Researcher, RAG PDF, Professor Agent) with their corresponding tools, to investigate, and formulate responses autonomously about Data Science and AI."
      ],
      "metadata": {
        "id": "4CMJCzyzORo_"
      }
    },
    {
      "cell_type": "markdown",
      "source": [
        "### Worker Agents\n",
        "\n",
        "Access to data on drive: https://drive.google.com/file/d/1htvflad8yB9sH9G9U82CmwuXP-ERxoc-/view?usp=sharing"
      ],
      "metadata": {
        "id": "rZ6egcVbwoxt"
      }
    },
    {
      "cell_type": "code",
      "source": [
        "# Worker Agents\n",
        "\n",
        "# Custom component\n",
        "class RAGBeyondLLM(BaseAction):\n",
        "    \"\"\"\n",
        "    Use this action to extract content from the RAGBeyondLLM.\n",
        "\n",
        "    \"\"\"\n",
        "\n",
        "    query: str = Field(default_factory=str,\n",
        "                       description=\"User query, to get search results in the RAGBeyondLLM.\")\n",
        "\n",
        "    def execute(self):\n",
        "\n",
        "        data_pdf = source.fit(path=\"/content/drive/MyDrive/Colab Notebooks/Bootcamp RAG & Agents - AI Planet/Challenge/Data/14500-brief-introduction-to-artificial-neural-networks-ensps.pdf\", dtype=\"pdf\", chunk_size=1024, chunk_overlap=100)\n",
        "        embed_model_pdf = GeminiEmbeddings(api_key=GOOGLE_API_KEY, model_name=\"models/embedding-001\")\n",
        "        retriever_pdf = retrieve.auto_retriever(data=data_pdf, embed_model=embed_model_pdf, type=\"hybrid\", mode=\"OR\", top_k=3)\n",
        "        llm = llms.GeminiModel(model_name=\"gemini-pro\", google_api_key=GOOGLE_API_KEY)\n",
        "        pipeline = generator.Generate(question=self.query, retriever=retriever_pdf, llm=llm)\n",
        "        response = pipeline.call()\n",
        "        return response"
      ],
      "metadata": {
        "id": "gk4f6f7PQTXK"
      },
      "execution_count": null,
      "outputs": []
    },
    {
      "cell_type": "code",
      "source": [
        "# Query\n",
        "query_ia = \"What is Artificial Intelligence, and where can it be applied?\"\n",
        "\n",
        "# Initialize researcher_ia\n",
        "researcher_ia = Worker(role=\"Specialist Researcher\",\n",
        "                       instructions=f\"Research and analyze theory and concepts about Artificial Intelligence to answer the following question: {query_ia}. You have a knack for analyzing complex data and presenting useful information.\",\n",
        "                       actions=[DuckDuckGoNewsSearch],\n",
        "                       max_iterations=2,\n",
        "                       force_output=True\n",
        ")\n",
        "\n",
        "# Initialize researcher_ia_pdf\n",
        "researcher_ia_pdf = Worker(role=\"RAG PDF\",\n",
        "                           instructions=f\"Query: {query_ia}\",\n",
        "                           actions=[RAGBeyondLLM],\n",
        "                           max_iterations=1,\n",
        "                           force_output=True)\n",
        "\n",
        "# Instruccion\n",
        "instruccion_teacher =\"\"\"\n",
        "Develop the requested concept using what was researched. Be creative and meticulous. He has five years of experience as a Professor of Data Science and AI. Make sure the concept is clear and perfect. Perform the requested task taking into account the information investigated and the following context data:\n",
        "- Develop the concept of what was investigated.\n",
        "- Use technical and scientific concepts.\n",
        "- Maintain excellent grammar.\n",
        "- You can place titles in bold.\n",
        "- You can use emojis for more creative writing.\n",
        "You must develop at least three paragraphs.\n",
        "\"\"\"\n",
        "\n",
        "# Initialize teacher_ia\n",
        "teacher_ia = Worker(role=\"Professor Agent\",\n",
        "                      instructions=instruccion_teacher,\n",
        "                      max_iterations=2,\n",
        "                      force_output=True\n",
        ")"
      ],
      "metadata": {
        "id": "d3eLlwpPw2Wp"
      },
      "execution_count": null,
      "outputs": []
    },
    {
      "cell_type": "markdown",
      "source": [
        "### Admin"
      ],
      "metadata": {
        "id": "BfYCk7pCxz-D"
      }
    },
    {
      "cell_type": "code",
      "source": [
        "# Declare the Admin object\n",
        "\n",
        "admin_ia = Admin(planner=TaskPlanner(human_intervene=False),\n",
        "                  memory=Memory(),\n",
        "                  llm=llm_agent,\n",
        ")\n",
        "admin_ia.assign_workers([researcher_ia, researcher_ia_pdf, teacher_ia])"
      ],
      "metadata": {
        "id": "nw7Y394uxzNK"
      },
      "execution_count": null,
      "outputs": []
    },
    {
      "cell_type": "markdown",
      "source": [
        "### Run the Admin"
      ],
      "metadata": {
        "id": "4RA_Z9UiymAp"
      }
    },
    {
      "cell_type": "code",
      "source": [
        "# Run the admin object\n",
        "response_agent_ia = admin_ia.run(\n",
        "    query=query_ia,\n",
        "    description=\"Analyze and investigate theory and concepts about Artificial Intelligence, you can use the web as a RAG pdf. Using the knowledge provided, develop a complete and clear response, respecting the research data and context. The request must be directed to Tertiary and University students of Data Science and AI.\",\n",
        ")"
      ],
      "metadata": {
        "id": "Gv6rsQhLx26t",
        "colab": {
          "base_uri": "https://localhost:8080/",
          "height": 263
        },
        "outputId": "053fa071-5f16-4c6b-e3f0-1db727bd5b8e"
      },
      "execution_count": null,
      "outputs": [
        {
          "output_type": "stream",
          "name": "stdout",
          "text": [
            "\n",
            "\n",
            "Tasks: [{'task_name': 'Research and Analyze AI Concepts', 'description': \"Use DuckDuckGo to find and analyze relevant information about Artificial Intelligence and its applications. Provide a concise summary of the key concepts and applications that are most relevant to the question 'What is Artificial Intelligence, and where can it be applied?'  Return the summarized results as a string.\", 'worker_id': '3579025845ca42b489d8cbc8d3e433c5'}, {'task_name': 'Extract Information from RAG PDF', 'description': \"Use the RAGBeyondLLM action to extract information from the provided RAG PDF based on the query 'What is Artificial Intelligence, and where can it be applied?'.  Return the extracted information as a string.\", 'worker_id': 'd702a8a3109043568e430456376ccdad'}, {'task_name': 'Develop the AI Concept', 'description': 'Use the information from the previous tasks to develop a clear and concise explanation of Artificial Intelligence and its applications.  Focus on providing a comprehensive overview that is suitable for tertiary and university students of Data Science and AI.  The response should be at least three paragraphs long, with clear and concise language, appropriate technical and scientific concepts, and excellent grammar.  Use bold text for titles and emojis for creative writing.  Return the developed concept as a string.', 'worker_id': '8a74dc1a3b504abd9122a25606390a31'}]\n",
            "\n",
            "\n"
          ]
        },
        {
          "output_type": "stream",
          "name": "stderr",
          "text": [
            "WARNING:root:No Tasks to summarize.\n",
            "WARNING:chromadb.segment.impl.vector.local_persistent_hnsw:Number of requested results 10 is greater than number of elements in index 3, updating n_results = 3\n",
            "WARNING:root:No Tasks to summarize.\n"
          ]
        },
        {
          "output_type": "stream",
          "name": "stdout",
          "text": [
            "LLM is explicitly disabled. Using MockLLM.\n",
            "Embeddings have been explicitly disabled. Using MockEmbedding.\n"
          ]
        },
        {
          "output_type": "stream",
          "name": "stderr",
          "text": [
            "WARNING:chromadb.segment.impl.vector.local_persistent_hnsw:Number of requested results 10 is greater than number of elements in index 3, updating n_results = 3\n",
            "WARNING:chromadb.segment.impl.vector.local_persistent_hnsw:Number of requested results 10 is greater than number of elements in index 3, updating n_results = 3\n",
            "WARNING:root:No Tasks to summarize.\n"
          ]
        }
      ]
    },
    {
      "cell_type": "markdown",
      "source": [
        "### Output\n",
        "\n",
        "Access to Log on drive: https://drive.google.com/drive/folders/1ktvvsOMkfFB2caPI8_djfAP70F94zWdd?usp=sharing"
      ],
      "metadata": {
        "id": "hvpx4CPDyxEY"
      }
    },
    {
      "cell_type": "code",
      "source": [
        "# Output display\n",
        "print(\"-\" * 100)  # Separator\n",
        "Console().print(Markdown(response_agent_ia))"
      ],
      "metadata": {
        "id": "07Y9iYybyvZi",
        "colab": {
          "base_uri": "https://localhost:8080/",
          "height": 450
        },
        "outputId": "85438286-ebe7-4e8f-dd23-86838e09eca3"
      },
      "execution_count": null,
      "outputs": [
        {
          "output_type": "stream",
          "name": "stdout",
          "text": [
            "----------------------------------------------------------------------------------------------------\n"
          ]
        },
        {
          "output_type": "display_data",
          "data": {
            "text/plain": [
              "\n",
              "                                   \u001b[1;4mArtificial Intelligence: A Paradigm Shift\u001b[0m\u001b[1;4m 🤖\u001b[0m                                    \n",
              "\n",
              "Artificial intelligence (AI) is a branch of computer science that aims to create intelligent machines capable of   \n",
              "performing tasks that typically require human intelligence. These tasks encompass a wide range of capabilities,    \n",
              "such as learning, problem-solving, decision-making, and even creative expression. AI systems leverage algorithms   \n",
              "and data to mimic human cognitive functions, enabling them to understand, interpret, and respond to complex        \n",
              "situations.                                                                                                        \n",
              "\n",
              "\n",
              "                                     \u001b[1;4mApplications of AI Across Industries:\u001b[0m\u001b[1;4m 🌐\u001b[0m                                      \n",
              "\n",
              "AI has permeated various industries, revolutionizing the way we live, work, and interact with the world. In        \n",
              "healthcare, AI-powered diagnostic tools assist physicians in identifying diseases early and accurately. In finance,\n",
              "AI algorithms detect fraudulent transactions and optimize investment strategies. In transportation, self-driving   \n",
              "cars are being developed using AI to navigate roads autonomously. The applications of AI are vast and continue to  \n",
              "expand, shaping the future of countless industries.                                                                \n",
              "\n",
              "\n",
              "                                              \u001b[1;4mKey Concepts in AI:\u001b[0m\u001b[1;4m 🧠\u001b[0m                                               \n",
              "\n",
              "At the heart of AI are fundamental concepts that drive its development and applications. Machine learning, a core  \n",
              "component of AI, enables systems to learn from data without explicit programming. Deep learning, a subset of       \n",
              "machine learning, utilizes artificial neural networks inspired by the human brain to process complex information.  \n",
              "Natural language processing (NLP) empowers AI systems to understand and interact with human language, facilitating \n",
              "communication and information retrieval. Together, these concepts lay the groundwork for the advancement of AI and \n",
              "its transformative impact on society.                                                                              \n"
            ],
            "text/html": [
              "<pre style=\"white-space:pre;overflow-x:auto;line-height:normal;font-family:Menlo,'DejaVu Sans Mono',consolas,'Courier New',monospace\">\n",
              "                                   <span style=\"font-weight: bold; text-decoration: underline\">Artificial Intelligence: A Paradigm Shift 🤖</span>                                    \n",
              "\n",
              "Artificial intelligence (AI) is a branch of computer science that aims to create intelligent machines capable of   \n",
              "performing tasks that typically require human intelligence. These tasks encompass a wide range of capabilities,    \n",
              "such as learning, problem-solving, decision-making, and even creative expression. AI systems leverage algorithms   \n",
              "and data to mimic human cognitive functions, enabling them to understand, interpret, and respond to complex        \n",
              "situations.                                                                                                        \n",
              "\n",
              "\n",
              "                                     <span style=\"font-weight: bold; text-decoration: underline\">Applications of AI Across Industries: 🌐</span>                                      \n",
              "\n",
              "AI has permeated various industries, revolutionizing the way we live, work, and interact with the world. In        \n",
              "healthcare, AI-powered diagnostic tools assist physicians in identifying diseases early and accurately. In finance,\n",
              "AI algorithms detect fraudulent transactions and optimize investment strategies. In transportation, self-driving   \n",
              "cars are being developed using AI to navigate roads autonomously. The applications of AI are vast and continue to  \n",
              "expand, shaping the future of countless industries.                                                                \n",
              "\n",
              "\n",
              "                                              <span style=\"font-weight: bold; text-decoration: underline\">Key Concepts in AI: 🧠</span>                                               \n",
              "\n",
              "At the heart of AI are fundamental concepts that drive its development and applications. Machine learning, a core  \n",
              "component of AI, enables systems to learn from data without explicit programming. Deep learning, a subset of       \n",
              "machine learning, utilizes artificial neural networks inspired by the human brain to process complex information.  \n",
              "Natural language processing (NLP) empowers AI systems to understand and interact with human language, facilitating \n",
              "communication and information retrieval. Together, these concepts lay the groundwork for the advancement of AI and \n",
              "its transformative impact on society.                                                                              \n",
              "</pre>\n"
            ]
          },
          "metadata": {}
        }
      ]
    },
    {
      "cell_type": "markdown",
      "metadata": {
        "id": "fxHVLu2ca5XP"
      },
      "source": [
        "# Resources\n",
        "\n",
        "* [API de Gemini](https://ai.google.dev/docs/gemini_api_overview)\n",
        "* [Beyondllm](https://beyondllm.aiplanet.com/)\n",
        "* [Gradio](https://www.gradio.app/docs)\n",
        "* [OpenAGI](https://openagi.aiplanet.com/)"
      ]
    }
  ],
  "metadata": {
    "colab": {
      "collapsed_sections": [
        "jsBT5y6eB5tp",
        "5g41N7CAHItU",
        "_H9F_DCeHTtu",
        "1JnCKLCbH2KX",
        "6ltzIuLCIQBI",
        "Rk-rXB1EIkEt",
        "qYexudxnQIZV",
        "gACH9xdmSSfw",
        "eAzg7yrWuauM",
        "Pe8KTtHY8hyt",
        "_JxhDfuBnkS6",
        "VNNRtsu-zBly",
        "cC7tcvCe8mxZ",
        "CQijsoRoqkEb",
        "CxSM09Chq6d6",
        "GQx1kKKSrEFU",
        "4CMJCzyzORo_",
        "rZ6egcVbwoxt",
        "BfYCk7pCxz-D",
        "4RA_Z9UiymAp",
        "hvpx4CPDyxEY"
      ],
      "provenance": []
    },
    "kernelspec": {
      "display_name": "Python 3",
      "name": "python3"
    },
    "language_info": {
      "name": "python"
    }
  },
  "nbformat": 4,
  "nbformat_minor": 0
}